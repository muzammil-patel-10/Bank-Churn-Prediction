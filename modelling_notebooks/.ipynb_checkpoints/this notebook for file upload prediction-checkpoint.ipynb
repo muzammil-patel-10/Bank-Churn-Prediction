{
 "cells": [
  {
   "cell_type": "code",
   "execution_count": 3,
   "id": "33454d26",
   "metadata": {},
   "outputs": [],
   "source": [
    "import os\n",
    "\n",
    "import pandas as pd\n",
    "import numpy as np\n",
    "\n",
    "# store elements as dictionary keys and their counts as dictionary values\n",
    "from collections import Counter\n",
    "import matplotlib.pyplot as plt\n",
    "from imblearn.combine import SMOTETomek\n",
    "from imblearn.over_sampling import RandomOverSampler\n",
    "\n",
    "# scikit-learn\n",
    "from sklearn.model_selection import train_test_split\n",
    "\n",
    "from sklearn.preprocessing import MinMaxScaler, OneHotEncoder, LabelEncoder\n",
    "from sklearn.compose import ColumnTransformer, make_column_transformer\n",
    "from sklearn.pipeline import make_pipeline\n",
    "\n",
    "# Classification metrics\n",
    "from sklearn.metrics import confusion_matrix, classification_report\n",
    "\n",
    "# Function for creating model pipelines - sklearn\n",
    "from sklearn.pipeline import make_pipeline\n",
    "\n",
    "# Function for creating model pipelines - imblearn\n",
    "from imblearn.pipeline import make_pipeline as imbl_pipe\n",
    "\n",
    "# Over-sampling using SMOTE\n",
    "from imblearn.over_sampling import SMOTE\n"
   ]
  },
  {
   "cell_type": "code",
   "execution_count": 2,
   "id": "2105b8a3",
   "metadata": {},
   "outputs": [
    {
     "data": {
      "text/html": [
       "<div>\n",
       "<style scoped>\n",
       "    .dataframe tbody tr th:only-of-type {\n",
       "        vertical-align: middle;\n",
       "    }\n",
       "\n",
       "    .dataframe tbody tr th {\n",
       "        vertical-align: top;\n",
       "    }\n",
       "\n",
       "    .dataframe thead th {\n",
       "        text-align: right;\n",
       "    }\n",
       "</style>\n",
       "<table border=\"1\" class=\"dataframe\">\n",
       "  <thead>\n",
       "    <tr style=\"text-align: right;\">\n",
       "      <th></th>\n",
       "      <th>CreditScore</th>\n",
       "      <th>Geography</th>\n",
       "      <th>Gender</th>\n",
       "      <th>Age</th>\n",
       "      <th>Tenure</th>\n",
       "      <th>Balance</th>\n",
       "      <th>NumOfProducts</th>\n",
       "      <th>HasCrCard</th>\n",
       "      <th>IsActiveMember</th>\n",
       "      <th>EstimatedSalary</th>\n",
       "      <th>Exited</th>\n",
       "    </tr>\n",
       "  </thead>\n",
       "  <tbody>\n",
       "    <tr>\n",
       "      <th>0</th>\n",
       "      <td>619</td>\n",
       "      <td>France</td>\n",
       "      <td>Female</td>\n",
       "      <td>42</td>\n",
       "      <td>2</td>\n",
       "      <td>0.00</td>\n",
       "      <td>1</td>\n",
       "      <td>1</td>\n",
       "      <td>1</td>\n",
       "      <td>101348.88</td>\n",
       "      <td>1</td>\n",
       "    </tr>\n",
       "    <tr>\n",
       "      <th>1</th>\n",
       "      <td>608</td>\n",
       "      <td>Spain</td>\n",
       "      <td>Female</td>\n",
       "      <td>41</td>\n",
       "      <td>1</td>\n",
       "      <td>83807.86</td>\n",
       "      <td>1</td>\n",
       "      <td>0</td>\n",
       "      <td>1</td>\n",
       "      <td>112542.58</td>\n",
       "      <td>0</td>\n",
       "    </tr>\n",
       "    <tr>\n",
       "      <th>2</th>\n",
       "      <td>502</td>\n",
       "      <td>France</td>\n",
       "      <td>Female</td>\n",
       "      <td>42</td>\n",
       "      <td>8</td>\n",
       "      <td>159660.80</td>\n",
       "      <td>3</td>\n",
       "      <td>1</td>\n",
       "      <td>0</td>\n",
       "      <td>113931.57</td>\n",
       "      <td>1</td>\n",
       "    </tr>\n",
       "    <tr>\n",
       "      <th>3</th>\n",
       "      <td>699</td>\n",
       "      <td>France</td>\n",
       "      <td>Female</td>\n",
       "      <td>39</td>\n",
       "      <td>1</td>\n",
       "      <td>0.00</td>\n",
       "      <td>2</td>\n",
       "      <td>0</td>\n",
       "      <td>0</td>\n",
       "      <td>93826.63</td>\n",
       "      <td>0</td>\n",
       "    </tr>\n",
       "    <tr>\n",
       "      <th>4</th>\n",
       "      <td>850</td>\n",
       "      <td>Spain</td>\n",
       "      <td>Female</td>\n",
       "      <td>43</td>\n",
       "      <td>2</td>\n",
       "      <td>125510.82</td>\n",
       "      <td>1</td>\n",
       "      <td>1</td>\n",
       "      <td>1</td>\n",
       "      <td>79084.10</td>\n",
       "      <td>0</td>\n",
       "    </tr>\n",
       "  </tbody>\n",
       "</table>\n",
       "</div>"
      ],
      "text/plain": [
       "   CreditScore Geography  Gender  Age  Tenure    Balance  NumOfProducts   \n",
       "0          619    France  Female   42       2       0.00              1  \\\n",
       "1          608     Spain  Female   41       1   83807.86              1   \n",
       "2          502    France  Female   42       8  159660.80              3   \n",
       "3          699    France  Female   39       1       0.00              2   \n",
       "4          850     Spain  Female   43       2  125510.82              1   \n",
       "\n",
       "   HasCrCard  IsActiveMember  EstimatedSalary  Exited  \n",
       "0          1               1        101348.88       1  \n",
       "1          0               1        112542.58       0  \n",
       "2          1               0        113931.57       1  \n",
       "3          0               0         93826.63       0  \n",
       "4          1               1         79084.10       0  "
      ]
     },
     "execution_count": 2,
     "metadata": {},
     "output_type": "execute_result"
    }
   ],
   "source": [
    "abt = pd.read_csv(\"../Resources/analytical_base_table.csv\")\n",
    "abt.head()"
   ]
  },
  {
   "cell_type": "code",
   "execution_count": 3,
   "id": "4fb66667",
   "metadata": {},
   "outputs": [],
   "source": [
    "abt['Geography'] = abt['Geography'].replace(['France', 'Spain', 'Germany'], [0, 1, 2])\n",
    "abt['Gender'] = abt['Gender'].replace(['Female', 'Male'], [0, 1])\n"
   ]
  },
  {
   "cell_type": "code",
   "execution_count": 6,
   "id": "0270dede",
   "metadata": {},
   "outputs": [
    {
     "name": "stdout",
     "output_type": "stream",
     "text": [
      "(10000, 10) (10000,)\n"
     ]
    }
   ],
   "source": [
    "#Separate dataframe into separate object\n",
    "\n",
    "# Object for target variable\n",
    "y = abt.Exited\n",
    "\n",
    "# object for input features\n",
    "X = abt.drop(['Exited'], axis=1)\n",
    "\n",
    "# display shapes of X and y-\n",
    "print(X.shape, y.shape)\n"
   ]
  },
  {
   "cell_type": "code",
   "execution_count": 7,
   "id": "14270299",
   "metadata": {
    "scrolled": true
   },
   "outputs": [
    {
     "data": {
      "text/plain": [
       "(array([7963.,    0.,    0.,    0.,    0.,    0.,    0.,    0.,    0.,\n",
       "        2037.]),\n",
       " array([0. , 0.1, 0.2, 0.3, 0.4, 0.5, 0.6, 0.7, 0.8, 0.9, 1. ]),\n",
       " <BarContainer object of 10 artists>)"
      ]
     },
     "execution_count": 7,
     "metadata": {},
     "output_type": "execute_result"
    },
    {
     "data": {
      "image/png": "[encoded data removed]",
      "text/plain": [
       "<Figure size 640x480 with 1 Axes>"
      ]
     },
     "metadata": {},
     "output_type": "display_data"
    }
   ],
   "source": [
    "plt.hist(y)"
   ]
  },
  {
   "cell_type": "code",
   "execution_count": 8,
   "id": "f47bc902",
   "metadata": {},
   "outputs": [
    {
     "data": {
      "text/plain": [
       "['CreditScore',\n",
       " 'Geography',\n",
       " 'Gender',\n",
       " 'Age',\n",
       " 'Tenure',\n",
       " 'Balance',\n",
       " 'NumOfProducts',\n",
       " 'HasCrCard',\n",
       " 'IsActiveMember',\n",
       " 'EstimatedSalary']"
      ]
     },
     "execution_count": 8,
     "metadata": {},
     "output_type": "execute_result"
    }
   ],
   "source": [
    "# List numerical features\n",
    "num_columns = X.select_dtypes(include='number').columns.tolist()\n",
    "num_columns"
   ]
  },
  {
   "cell_type": "code",
   "execution_count": 9,
   "id": "42d0786c",
   "metadata": {},
   "outputs": [],
   "source": [
    "os =  RandomOverSampler(sampling_strategy='auto', random_state=42)\n",
    "X,y=os.fit_resample(X,y)\n"
   ]
  },
  {
   "cell_type": "code",
   "execution_count": 10,
   "id": "12d76b9f",
   "metadata": {},
   "outputs": [
    {
     "data": {
      "text/plain": [
       "((15926, 10), (15926,))"
      ]
     },
     "execution_count": 10,
     "metadata": {},
     "output_type": "execute_result"
    }
   ],
   "source": [
    "X.shape,y.shape\n"
   ]
  },
  {
   "cell_type": "code",
   "execution_count": 11,
   "id": "131d9106",
   "metadata": {},
   "outputs": [
    {
     "name": "stdout",
     "output_type": "stream",
     "text": [
      "Resampled dataset shape Counter({1: 7963, 0: 7963})\n"
     ]
    }
   ],
   "source": [
    "from collections import Counter\n",
    "print('Resampled dataset shape {}'.format(Counter(y)))"
   ]
  },
  {
   "cell_type": "code",
   "execution_count": 12,
   "id": "734158ac",
   "metadata": {},
   "outputs": [
    {
     "name": "stdout",
     "output_type": "stream",
     "text": [
      "11148 4778 11148 4778\n"
     ]
    }
   ],
   "source": [
    "random_state = 42\n",
    "\n",
    "# Split X and y int train and test sets\n",
    "X_train, X_test, y_train, y_test = train_test_split(X, y,\n",
    "                                                    test_size=0.3,\n",
    "                                                    random_state=random_state)\n",
    "\n",
    "# Print number of observations in X_train, X_test, y_train, and y_test\n",
    "print(len(X_train), len(X_test), len(y_train), len(y_test))"
   ]
  },
  {
   "cell_type": "code",
   "execution_count": 13,
   "id": "33f58556",
   "metadata": {},
   "outputs": [],
   "source": [
    "X_train.to_csv(\"../Resources/X_train.csv\")\n",
    "X_test.to_csv(\"../Resources/X_test.csv\")\n",
    "y_train.to_csv(\"../Resources/y_train.csv\")\n",
    "y_test.to_csv(\"../Resources/y_test.csv\")"
   ]
  },
  {
   "cell_type": "code",
   "execution_count": 14,
   "id": "2e64099e",
   "metadata": {},
   "outputs": [],
   "source": [
    "# from sklearn.preprocessing import MinMaxScaler"
   ]
  },
  {
   "cell_type": "code",
   "execution_count": 15,
   "id": "8e723537",
   "metadata": {},
   "outputs": [],
   "source": [
    "# scaler = MinMaxScaler()\n",
    "# X_train_fit= scaler.fit(X_train)\n",
    "# X_test_fit= scaler.fit(X_test)\n"
   ]
  },
  {
   "cell_type": "code",
   "execution_count": 16,
   "id": "06078637",
   "metadata": {},
   "outputs": [],
   "source": [
    "# import joblib\n",
    "\n",
    "# X_train_filename = '../models/X_train_MinMaxScaler_fit.sav'\n",
    "# X_test_filename = '../models/X_test_MinMaxScaler_fit.sav'\n",
    "\n",
    "# # joblib.dump(X_train_fit, X_train_filename)\n",
    "# # joblib.dump(X_test_fit, X_test_filename)\n"
   ]
  },
  {
   "cell_type": "code",
   "execution_count": 17,
   "id": "a7ababdb",
   "metadata": {},
   "outputs": [
    {
     "data": {
      "text/html": [
       "<div>\n",
       "<style scoped>\n",
       "    .dataframe tbody tr th:only-of-type {\n",
       "        vertical-align: middle;\n",
       "    }\n",
       "\n",
       "    .dataframe tbody tr th {\n",
       "        vertical-align: top;\n",
       "    }\n",
       "\n",
       "    .dataframe thead th {\n",
       "        text-align: right;\n",
       "    }\n",
       "</style>\n",
       "<table border=\"1\" class=\"dataframe\">\n",
       "  <thead>\n",
       "    <tr style=\"text-align: right;\">\n",
       "      <th></th>\n",
       "      <th>CreditScore</th>\n",
       "      <th>Geography</th>\n",
       "      <th>Gender</th>\n",
       "      <th>Age</th>\n",
       "      <th>Tenure</th>\n",
       "      <th>Balance</th>\n",
       "      <th>NumOfProducts</th>\n",
       "      <th>HasCrCard</th>\n",
       "      <th>IsActiveMember</th>\n",
       "      <th>EstimatedSalary</th>\n",
       "    </tr>\n",
       "  </thead>\n",
       "  <tbody>\n",
       "    <tr>\n",
       "      <th>6126</th>\n",
       "      <td>535</td>\n",
       "      <td>0</td>\n",
       "      <td>0</td>\n",
       "      <td>29</td>\n",
       "      <td>5</td>\n",
       "      <td>0.00</td>\n",
       "      <td>2</td>\n",
       "      <td>0</td>\n",
       "      <td>1</td>\n",
       "      <td>52709.55</td>\n",
       "    </tr>\n",
       "    <tr>\n",
       "      <th>7093</th>\n",
       "      <td>606</td>\n",
       "      <td>2</td>\n",
       "      <td>0</td>\n",
       "      <td>41</td>\n",
       "      <td>4</td>\n",
       "      <td>132670.53</td>\n",
       "      <td>1</td>\n",
       "      <td>1</td>\n",
       "      <td>0</td>\n",
       "      <td>156476.36</td>\n",
       "    </tr>\n",
       "    <tr>\n",
       "      <th>1659</th>\n",
       "      <td>680</td>\n",
       "      <td>1</td>\n",
       "      <td>0</td>\n",
       "      <td>31</td>\n",
       "      <td>9</td>\n",
       "      <td>119825.75</td>\n",
       "      <td>2</td>\n",
       "      <td>1</td>\n",
       "      <td>1</td>\n",
       "      <td>101139.30</td>\n",
       "    </tr>\n",
       "    <tr>\n",
       "      <th>15727</th>\n",
       "      <td>692</td>\n",
       "      <td>0</td>\n",
       "      <td>0</td>\n",
       "      <td>36</td>\n",
       "      <td>4</td>\n",
       "      <td>0.00</td>\n",
       "      <td>1</td>\n",
       "      <td>1</td>\n",
       "      <td>0</td>\n",
       "      <td>185580.89</td>\n",
       "    </tr>\n",
       "    <tr>\n",
       "      <th>9682</th>\n",
       "      <td>686</td>\n",
       "      <td>2</td>\n",
       "      <td>0</td>\n",
       "      <td>39</td>\n",
       "      <td>4</td>\n",
       "      <td>157731.60</td>\n",
       "      <td>2</td>\n",
       "      <td>1</td>\n",
       "      <td>0</td>\n",
       "      <td>162820.60</td>\n",
       "    </tr>\n",
       "    <tr>\n",
       "      <th>...</th>\n",
       "      <td>...</td>\n",
       "      <td>...</td>\n",
       "      <td>...</td>\n",
       "      <td>...</td>\n",
       "      <td>...</td>\n",
       "      <td>...</td>\n",
       "      <td>...</td>\n",
       "      <td>...</td>\n",
       "      <td>...</td>\n",
       "      <td>...</td>\n",
       "    </tr>\n",
       "    <tr>\n",
       "      <th>6205</th>\n",
       "      <td>497</td>\n",
       "      <td>0</td>\n",
       "      <td>0</td>\n",
       "      <td>29</td>\n",
       "      <td>4</td>\n",
       "      <td>85646.81</td>\n",
       "      <td>1</td>\n",
       "      <td>0</td>\n",
       "      <td>0</td>\n",
       "      <td>63233.02</td>\n",
       "    </tr>\n",
       "    <tr>\n",
       "      <th>1718</th>\n",
       "      <td>648</td>\n",
       "      <td>1</td>\n",
       "      <td>1</td>\n",
       "      <td>32</td>\n",
       "      <td>8</td>\n",
       "      <td>0.00</td>\n",
       "      <td>1</td>\n",
       "      <td>1</td>\n",
       "      <td>0</td>\n",
       "      <td>133653.38</td>\n",
       "    </tr>\n",
       "    <tr>\n",
       "      <th>7149</th>\n",
       "      <td>680</td>\n",
       "      <td>0</td>\n",
       "      <td>1</td>\n",
       "      <td>37</td>\n",
       "      <td>4</td>\n",
       "      <td>0.00</td>\n",
       "      <td>2</td>\n",
       "      <td>1</td>\n",
       "      <td>0</td>\n",
       "      <td>61240.87</td>\n",
       "    </tr>\n",
       "    <tr>\n",
       "      <th>10819</th>\n",
       "      <td>588</td>\n",
       "      <td>2</td>\n",
       "      <td>0</td>\n",
       "      <td>30</td>\n",
       "      <td>0</td>\n",
       "      <td>110148.49</td>\n",
       "      <td>1</td>\n",
       "      <td>1</td>\n",
       "      <td>0</td>\n",
       "      <td>5790.90</td>\n",
       "    </tr>\n",
       "    <tr>\n",
       "      <th>4870</th>\n",
       "      <td>648</td>\n",
       "      <td>2</td>\n",
       "      <td>0</td>\n",
       "      <td>43</td>\n",
       "      <td>1</td>\n",
       "      <td>107963.38</td>\n",
       "      <td>1</td>\n",
       "      <td>0</td>\n",
       "      <td>0</td>\n",
       "      <td>186438.86</td>\n",
       "    </tr>\n",
       "  </tbody>\n",
       "</table>\n",
       "<p>4778 rows × 10 columns</p>\n",
       "</div>"
      ],
      "text/plain": [
       "       CreditScore  Geography  Gender  Age  Tenure    Balance  NumOfProducts   \n",
       "6126           535          0       0   29       5       0.00              2  \\\n",
       "7093           606          2       0   41       4  132670.53              1   \n",
       "1659           680          1       0   31       9  119825.75              2   \n",
       "15727          692          0       0   36       4       0.00              1   \n",
       "9682           686          2       0   39       4  157731.60              2   \n",
       "...            ...        ...     ...  ...     ...        ...            ...   \n",
       "6205           497          0       0   29       4   85646.81              1   \n",
       "1718           648          1       1   32       8       0.00              1   \n",
       "7149           680          0       1   37       4       0.00              2   \n",
       "10819          588          2       0   30       0  110148.49              1   \n",
       "4870           648          2       0   43       1  107963.38              1   \n",
       "\n",
       "       HasCrCard  IsActiveMember  EstimatedSalary  \n",
       "6126           0               1         52709.55  \n",
       "7093           1               0        156476.36  \n",
       "1659           1               1        101139.30  \n",
       "15727          1               0        185580.89  \n",
       "9682           1               0        162820.60  \n",
       "...          ...             ...              ...  \n",
       "6205           0               0         63233.02  \n",
       "1718           1               0        133653.38  \n",
       "7149           1               0         61240.87  \n",
       "10819          1               0          5790.90  \n",
       "4870           0               0        186438.86  \n",
       "\n",
       "[4778 rows x 10 columns]"
      ]
     },
     "execution_count": 17,
     "metadata": {},
     "output_type": "execute_result"
    }
   ],
   "source": [
    "X_test"
   ]
  },
  {
   "cell_type": "code",
   "execution_count": 18,
   "id": "7cb3604d",
   "metadata": {},
   "outputs": [],
   "source": [
    "# # load the scaler file \n",
    "# Xx_train_fit = joblib.load(X_train_filename)\n",
    "# Xx_test_fit = joblib.load(X_test_filename)\n"
   ]
  },
  {
   "cell_type": "code",
   "execution_count": 19,
   "id": "d5bd941d",
   "metadata": {},
   "outputs": [],
   "source": [
    "# X_test = X_test[:2]\n",
    "# X_test"
   ]
  },
  {
   "cell_type": "code",
   "execution_count": 20,
   "id": "63629aa7",
   "metadata": {},
   "outputs": [],
   "source": [
    "# X_train=Xx_train_fit.transform(X_train)\n",
    "# X_test=Xx_test_fit.transform(X_test)\n"
   ]
  },
  {
   "cell_type": "code",
   "execution_count": 21,
   "id": "43d31e5b",
   "metadata": {},
   "outputs": [
    {
     "data": {
      "text/html": [
       "<div>\n",
       "<style scoped>\n",
       "    .dataframe tbody tr th:only-of-type {\n",
       "        vertical-align: middle;\n",
       "    }\n",
       "\n",
       "    .dataframe tbody tr th {\n",
       "        vertical-align: top;\n",
       "    }\n",
       "\n",
       "    .dataframe thead th {\n",
       "        text-align: right;\n",
       "    }\n",
       "</style>\n",
       "<table border=\"1\" class=\"dataframe\">\n",
       "  <thead>\n",
       "    <tr style=\"text-align: right;\">\n",
       "      <th></th>\n",
       "      <th>CreditScore</th>\n",
       "      <th>Geography</th>\n",
       "      <th>Gender</th>\n",
       "      <th>Age</th>\n",
       "      <th>Tenure</th>\n",
       "      <th>Balance</th>\n",
       "      <th>NumOfProducts</th>\n",
       "      <th>HasCrCard</th>\n",
       "      <th>IsActiveMember</th>\n",
       "      <th>EstimatedSalary</th>\n",
       "    </tr>\n",
       "  </thead>\n",
       "  <tbody>\n",
       "    <tr>\n",
       "      <th>6126</th>\n",
       "      <td>535</td>\n",
       "      <td>0</td>\n",
       "      <td>0</td>\n",
       "      <td>29</td>\n",
       "      <td>5</td>\n",
       "      <td>0.00</td>\n",
       "      <td>2</td>\n",
       "      <td>0</td>\n",
       "      <td>1</td>\n",
       "      <td>52709.55</td>\n",
       "    </tr>\n",
       "    <tr>\n",
       "      <th>7093</th>\n",
       "      <td>606</td>\n",
       "      <td>2</td>\n",
       "      <td>0</td>\n",
       "      <td>41</td>\n",
       "      <td>4</td>\n",
       "      <td>132670.53</td>\n",
       "      <td>1</td>\n",
       "      <td>1</td>\n",
       "      <td>0</td>\n",
       "      <td>156476.36</td>\n",
       "    </tr>\n",
       "    <tr>\n",
       "      <th>1659</th>\n",
       "      <td>680</td>\n",
       "      <td>1</td>\n",
       "      <td>0</td>\n",
       "      <td>31</td>\n",
       "      <td>9</td>\n",
       "      <td>119825.75</td>\n",
       "      <td>2</td>\n",
       "      <td>1</td>\n",
       "      <td>1</td>\n",
       "      <td>101139.30</td>\n",
       "    </tr>\n",
       "    <tr>\n",
       "      <th>15727</th>\n",
       "      <td>692</td>\n",
       "      <td>0</td>\n",
       "      <td>0</td>\n",
       "      <td>36</td>\n",
       "      <td>4</td>\n",
       "      <td>0.00</td>\n",
       "      <td>1</td>\n",
       "      <td>1</td>\n",
       "      <td>0</td>\n",
       "      <td>185580.89</td>\n",
       "    </tr>\n",
       "    <tr>\n",
       "      <th>9682</th>\n",
       "      <td>686</td>\n",
       "      <td>2</td>\n",
       "      <td>0</td>\n",
       "      <td>39</td>\n",
       "      <td>4</td>\n",
       "      <td>157731.60</td>\n",
       "      <td>2</td>\n",
       "      <td>1</td>\n",
       "      <td>0</td>\n",
       "      <td>162820.60</td>\n",
       "    </tr>\n",
       "    <tr>\n",
       "      <th>...</th>\n",
       "      <td>...</td>\n",
       "      <td>...</td>\n",
       "      <td>...</td>\n",
       "      <td>...</td>\n",
       "      <td>...</td>\n",
       "      <td>...</td>\n",
       "      <td>...</td>\n",
       "      <td>...</td>\n",
       "      <td>...</td>\n",
       "      <td>...</td>\n",
       "    </tr>\n",
       "    <tr>\n",
       "      <th>6205</th>\n",
       "      <td>497</td>\n",
       "      <td>0</td>\n",
       "      <td>0</td>\n",
       "      <td>29</td>\n",
       "      <td>4</td>\n",
       "      <td>85646.81</td>\n",
       "      <td>1</td>\n",
       "      <td>0</td>\n",
       "      <td>0</td>\n",
       "      <td>63233.02</td>\n",
       "    </tr>\n",
       "    <tr>\n",
       "      <th>1718</th>\n",
       "      <td>648</td>\n",
       "      <td>1</td>\n",
       "      <td>1</td>\n",
       "      <td>32</td>\n",
       "      <td>8</td>\n",
       "      <td>0.00</td>\n",
       "      <td>1</td>\n",
       "      <td>1</td>\n",
       "      <td>0</td>\n",
       "      <td>133653.38</td>\n",
       "    </tr>\n",
       "    <tr>\n",
       "      <th>7149</th>\n",
       "      <td>680</td>\n",
       "      <td>0</td>\n",
       "      <td>1</td>\n",
       "      <td>37</td>\n",
       "      <td>4</td>\n",
       "      <td>0.00</td>\n",
       "      <td>2</td>\n",
       "      <td>1</td>\n",
       "      <td>0</td>\n",
       "      <td>61240.87</td>\n",
       "    </tr>\n",
       "    <tr>\n",
       "      <th>10819</th>\n",
       "      <td>588</td>\n",
       "      <td>2</td>\n",
       "      <td>0</td>\n",
       "      <td>30</td>\n",
       "      <td>0</td>\n",
       "      <td>110148.49</td>\n",
       "      <td>1</td>\n",
       "      <td>1</td>\n",
       "      <td>0</td>\n",
       "      <td>5790.90</td>\n",
       "    </tr>\n",
       "    <tr>\n",
       "      <th>4870</th>\n",
       "      <td>648</td>\n",
       "      <td>2</td>\n",
       "      <td>0</td>\n",
       "      <td>43</td>\n",
       "      <td>1</td>\n",
       "      <td>107963.38</td>\n",
       "      <td>1</td>\n",
       "      <td>0</td>\n",
       "      <td>0</td>\n",
       "      <td>186438.86</td>\n",
       "    </tr>\n",
       "  </tbody>\n",
       "</table>\n",
       "<p>4778 rows × 10 columns</p>\n",
       "</div>"
      ],
      "text/plain": [
       "       CreditScore  Geography  Gender  Age  Tenure    Balance  NumOfProducts   \n",
       "6126           535          0       0   29       5       0.00              2  \\\n",
       "7093           606          2       0   41       4  132670.53              1   \n",
       "1659           680          1       0   31       9  119825.75              2   \n",
       "15727          692          0       0   36       4       0.00              1   \n",
       "9682           686          2       0   39       4  157731.60              2   \n",
       "...            ...        ...     ...  ...     ...        ...            ...   \n",
       "6205           497          0       0   29       4   85646.81              1   \n",
       "1718           648          1       1   32       8       0.00              1   \n",
       "7149           680          0       1   37       4       0.00              2   \n",
       "10819          588          2       0   30       0  110148.49              1   \n",
       "4870           648          2       0   43       1  107963.38              1   \n",
       "\n",
       "       HasCrCard  IsActiveMember  EstimatedSalary  \n",
       "6126           0               1         52709.55  \n",
       "7093           1               0        156476.36  \n",
       "1659           1               1        101139.30  \n",
       "15727          1               0        185580.89  \n",
       "9682           1               0        162820.60  \n",
       "...          ...             ...              ...  \n",
       "6205           0               0         63233.02  \n",
       "1718           1               0        133653.38  \n",
       "7149           1               0         61240.87  \n",
       "10819          1               0          5790.90  \n",
       "4870           0               0        186438.86  \n",
       "\n",
       "[4778 rows x 10 columns]"
      ]
     },
     "execution_count": 21,
     "metadata": {},
     "output_type": "execute_result"
    }
   ],
   "source": [
    "X_test"
   ]
  },
  {
   "cell_type": "code",
   "execution_count": 23,
   "id": "fb517e89",
   "metadata": {},
   "outputs": [],
   "source": [
    "# scaler1 = MinMaxScaler()\n",
    "# scaler1.fit_transform(X_test)\n",
    "\n"
   ]
  },
  {
   "cell_type": "code",
   "execution_count": 24,
   "id": "994f06ba",
   "metadata": {},
   "outputs": [],
   "source": [
    "# random_state = 42\n",
    "\n",
    "# # Split X and y int train and test sets\n",
    "# X_train, X_test, y_train, y_test = train_test_split(X, y,\n",
    "#                                                     test_size=0.3,\n",
    "#                                                     random_state=random_state)\n",
    "\n",
    "# # Print number of observations in X_train, X_test, y_train, and y_test\n",
    "# print(len(X_train), len(X_test), len(y_train), len(y_test))"
   ]
  },
  {
   "cell_type": "code",
   "execution_count": 25,
   "id": "edf02aef",
   "metadata": {},
   "outputs": [],
   "source": [
    "# X_train.to_csv(\"X_train.csv\")\n",
    "# X_test.to_csv(\"X_test.csv\")\n",
    "# y_train.to_csv(\"y_train.csv\")\n",
    "# y_test.to_csv(\"y_test.csv\")"
   ]
  },
  {
   "cell_type": "code",
   "execution_count": 26,
   "id": "b7726f04",
   "metadata": {},
   "outputs": [],
   "source": [
    "\n",
    "from sklearn.ensemble import RandomForestClassifier\n",
    "model=RandomForestClassifier()"
   ]
  },
  {
   "cell_type": "code",
   "execution_count": 27,
   "id": "ff9793e2",
   "metadata": {},
   "outputs": [],
   "source": [
    "# criterion=entropy, max_features=sqrt, min_samples_leaf=1, min_samples_split=3, n_estimators=100;, score=0.942"
   ]
  },
  {
   "cell_type": "code",
   "execution_count": 28,
   "id": "b83db206",
   "metadata": {},
   "outputs": [],
   "source": [
    " # Create the GridSearchCV model\n",
    "# Create the GridSearch estimator along with a parameter object containing the values to adjust\n",
    "from sklearn.model_selection import GridSearchCV\n",
    "rf_param_grid = {\n",
    "    'n_estimators' : [50, 100],\n",
    "    'max_features' : ['sqrt', 0.33],\n",
    "    'min_samples_leaf' : [1, 5],\n",
    "    'criterion' : ['gini', 'entropy'],\n",
    "    'min_samples_split' : [2, 3,]\n",
    "}\n",
    "rf_grid = GridSearchCV(model, rf_param_grid, verbose=3, cv= 5, scoring='accuracy')"
   ]
  },
  {
   "cell_type": "code",
   "execution_count": 29,
   "id": "cbb0671b",
   "metadata": {},
   "outputs": [],
   "source": [
    "X_train = X_train\n",
    "X_test = X_test"
   ]
  },
  {
   "cell_type": "code",
   "execution_count": 30,
   "id": "2a57b2de",
   "metadata": {
    "scrolled": true
   },
   "outputs": [
    {
     "name": "stdout",
     "output_type": "stream",
     "text": [
      "Fitting 5 folds for each of 32 candidates, totalling 160 fits\n",
      "[CV 1/5] END criterion=gini, max_features=sqrt, min_samples_leaf=1, min_samples_split=2, n_estimators=50;, score=0.927 total time=   1.4s\n",
      "[CV 2/5] END criterion=gini, max_features=sqrt, min_samples_leaf=1, min_samples_split=2, n_estimators=50;, score=0.935 total time=   1.3s\n",
      "[CV 3/5] END criterion=gini, max_features=sqrt, min_samples_leaf=1, min_samples_split=2, n_estimators=50;, score=0.930 total time=   1.4s\n",
      "[CV 4/5] END criterion=gini, max_features=sqrt, min_samples_leaf=1, min_samples_split=2, n_estimators=50;, score=0.919 total time=   1.3s\n",
      "[CV 5/5] END criterion=gini, max_features=sqrt, min_samples_leaf=1, min_samples_split=2, n_estimators=50;, score=0.930 total time=   1.3s\n",
      "[CV 1/5] END criterion=gini, max_features=sqrt, min_samples_leaf=1, min_samples_split=2, n_estimators=100;, score=0.926 total time=   2.8s\n",
      "[CV 2/5] END criterion=gini, max_features=sqrt, min_samples_leaf=1, min_samples_split=2, n_estimators=100;, score=0.940 total time=   2.7s\n",
      "[CV 3/5] END criterion=gini, max_features=sqrt, min_samples_leaf=1, min_samples_split=2, n_estimators=100;, score=0.928 total time=   2.7s\n",
      "[CV 4/5] END criterion=gini, max_features=sqrt, min_samples_leaf=1, min_samples_split=2, n_estimators=100;, score=0.919 total time=   2.7s\n",
      "[CV 5/5] END criterion=gini, max_features=sqrt, min_samples_leaf=1, min_samples_split=2, n_estimators=100;, score=0.926 total time=   2.7s\n",
      "[CV 1/5] END criterion=gini, max_features=sqrt, min_samples_leaf=1, min_samples_split=3, n_estimators=50;, score=0.928 total time=   1.3s\n",
      "[CV 2/5] END criterion=gini, max_features=sqrt, min_samples_leaf=1, min_samples_split=3, n_estimators=50;, score=0.935 total time=   1.3s\n",
      "[CV 3/5] END criterion=gini, max_features=sqrt, min_samples_leaf=1, min_samples_split=3, n_estimators=50;, score=0.927 total time=   1.3s\n",
      "[CV 4/5] END criterion=gini, max_features=sqrt, min_samples_leaf=1, min_samples_split=3, n_estimators=50;, score=0.917 total time=   1.3s\n",
      "[CV 5/5] END criterion=gini, max_features=sqrt, min_samples_leaf=1, min_samples_split=3, n_estimators=50;, score=0.922 total time=   1.3s\n",
      "[CV 1/5] END criterion=gini, max_features=sqrt, min_samples_leaf=1, min_samples_split=3, n_estimators=100;, score=0.927 total time=   2.7s\n",
      "[CV 2/5] END criterion=gini, max_features=sqrt, min_samples_leaf=1, min_samples_split=3, n_estimators=100;, score=0.934 total time=   2.7s\n",
      "[CV 3/5] END criterion=gini, max_features=sqrt, min_samples_leaf=1, min_samples_split=3, n_estimators=100;, score=0.930 total time=   2.7s\n",
      "[CV 4/5] END criterion=gini, max_features=sqrt, min_samples_leaf=1, min_samples_split=3, n_estimators=100;, score=0.918 total time=   2.7s\n",
      "[CV 5/5] END criterion=gini, max_features=sqrt, min_samples_leaf=1, min_samples_split=3, n_estimators=100;, score=0.926 total time=   2.7s\n",
      "[CV 1/5] END criterion=gini, max_features=sqrt, min_samples_leaf=5, min_samples_split=2, n_estimators=50;, score=0.877 total time=   1.1s\n",
      "[CV 2/5] END criterion=gini, max_features=sqrt, min_samples_leaf=5, min_samples_split=2, n_estimators=50;, score=0.879 total time=   1.1s\n",
      "[CV 3/5] END criterion=gini, max_features=sqrt, min_samples_leaf=5, min_samples_split=2, n_estimators=50;, score=0.872 total time=   1.1s\n",
      "[CV 4/5] END criterion=gini, max_features=sqrt, min_samples_leaf=5, min_samples_split=2, n_estimators=50;, score=0.864 total time=   1.1s\n",
      "[CV 5/5] END criterion=gini, max_features=sqrt, min_samples_leaf=5, min_samples_split=2, n_estimators=50;, score=0.869 total time=   1.1s\n",
      "[CV 1/5] END criterion=gini, max_features=sqrt, min_samples_leaf=5, min_samples_split=2, n_estimators=100;, score=0.879 total time=   2.4s\n",
      "[CV 2/5] END criterion=gini, max_features=sqrt, min_samples_leaf=5, min_samples_split=2, n_estimators=100;, score=0.888 total time=   2.3s\n",
      "[CV 3/5] END criterion=gini, max_features=sqrt, min_samples_leaf=5, min_samples_split=2, n_estimators=100;, score=0.874 total time=   2.3s\n",
      "[CV 4/5] END criterion=gini, max_features=sqrt, min_samples_leaf=5, min_samples_split=2, n_estimators=100;, score=0.863 total time=   2.3s\n",
      "[CV 5/5] END criterion=gini, max_features=sqrt, min_samples_leaf=5, min_samples_split=2, n_estimators=100;, score=0.869 total time=   2.3s\n",
      "[CV 1/5] END criterion=gini, max_features=sqrt, min_samples_leaf=5, min_samples_split=3, n_estimators=50;, score=0.880 total time=   1.1s\n",
      "[CV 2/5] END criterion=gini, max_features=sqrt, min_samples_leaf=5, min_samples_split=3, n_estimators=50;, score=0.887 total time=   1.1s\n",
      "[CV 3/5] END criterion=gini, max_features=sqrt, min_samples_leaf=5, min_samples_split=3, n_estimators=50;, score=0.871 total time=   1.1s\n",
      "[CV 4/5] END criterion=gini, max_features=sqrt, min_samples_leaf=5, min_samples_split=3, n_estimators=50;, score=0.870 total time=   1.1s\n",
      "[CV 5/5] END criterion=gini, max_features=sqrt, min_samples_leaf=5, min_samples_split=3, n_estimators=50;, score=0.873 total time=   1.1s\n",
      "[CV 1/5] END criterion=gini, max_features=sqrt, min_samples_leaf=5, min_samples_split=3, n_estimators=100;, score=0.878 total time=   2.3s\n",
      "[CV 2/5] END criterion=gini, max_features=sqrt, min_samples_leaf=5, min_samples_split=3, n_estimators=100;, score=0.887 total time=   2.3s\n",
      "[CV 3/5] END criterion=gini, max_features=sqrt, min_samples_leaf=5, min_samples_split=3, n_estimators=100;, score=0.872 total time=   2.3s\n",
      "[CV 4/5] END criterion=gini, max_features=sqrt, min_samples_leaf=5, min_samples_split=3, n_estimators=100;, score=0.865 total time=   2.4s\n",
      "[CV 5/5] END criterion=gini, max_features=sqrt, min_samples_leaf=5, min_samples_split=3, n_estimators=100;, score=0.867 total time=   2.3s\n",
      "[CV 1/5] END criterion=gini, max_features=0.33, min_samples_leaf=1, min_samples_split=2, n_estimators=50;, score=0.927 total time=   1.3s\n",
      "[CV 2/5] END criterion=gini, max_features=0.33, min_samples_leaf=1, min_samples_split=2, n_estimators=50;, score=0.938 total time=   1.3s\n",
      "[CV 3/5] END criterion=gini, max_features=0.33, min_samples_leaf=1, min_samples_split=2, n_estimators=50;, score=0.934 total time=   1.3s\n",
      "[CV 4/5] END criterion=gini, max_features=0.33, min_samples_leaf=1, min_samples_split=2, n_estimators=50;, score=0.922 total time=   1.3s\n",
      "[CV 5/5] END criterion=gini, max_features=0.33, min_samples_leaf=1, min_samples_split=2, n_estimators=50;, score=0.930 total time=   1.3s\n",
      "[CV 1/5] END criterion=gini, max_features=0.33, min_samples_leaf=1, min_samples_split=2, n_estimators=100;, score=0.927 total time=   2.7s\n",
      "[CV 2/5] END criterion=gini, max_features=0.33, min_samples_leaf=1, min_samples_split=2, n_estimators=100;, score=0.934 total time=   2.8s\n",
      "[CV 3/5] END criterion=gini, max_features=0.33, min_samples_leaf=1, min_samples_split=2, n_estimators=100;, score=0.931 total time=   2.7s\n",
      "[CV 4/5] END criterion=gini, max_features=0.33, min_samples_leaf=1, min_samples_split=2, n_estimators=100;, score=0.924 total time=   2.7s\n",
      "[CV 5/5] END criterion=gini, max_features=0.33, min_samples_leaf=1, min_samples_split=2, n_estimators=100;, score=0.928 total time=   2.8s\n",
      "[CV 1/5] END criterion=gini, max_features=0.33, min_samples_leaf=1, min_samples_split=3, n_estimators=50;, score=0.928 total time=   1.3s\n",
      "[CV 2/5] END criterion=gini, max_features=0.33, min_samples_leaf=1, min_samples_split=3, n_estimators=50;, score=0.935 total time=   1.4s\n",
      "[CV 3/5] END criterion=gini, max_features=0.33, min_samples_leaf=1, min_samples_split=3, n_estimators=50;, score=0.930 total time=   1.3s\n",
      "[CV 4/5] END criterion=gini, max_features=0.33, min_samples_leaf=1, min_samples_split=3, n_estimators=50;, score=0.916 total time=   1.3s\n",
      "[CV 5/5] END criterion=gini, max_features=0.33, min_samples_leaf=1, min_samples_split=3, n_estimators=50;, score=0.926 total time=   1.3s\n",
      "[CV 1/5] END criterion=gini, max_features=0.33, min_samples_leaf=1, min_samples_split=3, n_estimators=100;, score=0.927 total time=   2.8s\n",
      "[CV 2/5] END criterion=gini, max_features=0.33, min_samples_leaf=1, min_samples_split=3, n_estimators=100;, score=0.937 total time=   2.7s\n",
      "[CV 3/5] END criterion=gini, max_features=0.33, min_samples_leaf=1, min_samples_split=3, n_estimators=100;, score=0.933 total time=   2.7s\n",
      "[CV 4/5] END criterion=gini, max_features=0.33, min_samples_leaf=1, min_samples_split=3, n_estimators=100;, score=0.921 total time=   2.7s\n"
     ]
    },
    {
     "name": "stdout",
     "output_type": "stream",
     "text": [
      "[CV 5/5] END criterion=gini, max_features=0.33, min_samples_leaf=1, min_samples_split=3, n_estimators=100;, score=0.929 total time=   2.7s\n",
      "[CV 1/5] END criterion=gini, max_features=0.33, min_samples_leaf=5, min_samples_split=2, n_estimators=50;, score=0.877 total time=   1.1s\n",
      "[CV 2/5] END criterion=gini, max_features=0.33, min_samples_leaf=5, min_samples_split=2, n_estimators=50;, score=0.884 total time=   1.1s\n",
      "[CV 3/5] END criterion=gini, max_features=0.33, min_samples_leaf=5, min_samples_split=2, n_estimators=50;, score=0.869 total time=   1.1s\n",
      "[CV 4/5] END criterion=gini, max_features=0.33, min_samples_leaf=5, min_samples_split=2, n_estimators=50;, score=0.869 total time=   1.1s\n",
      "[CV 5/5] END criterion=gini, max_features=0.33, min_samples_leaf=5, min_samples_split=2, n_estimators=50;, score=0.872 total time=   1.1s\n",
      "[CV 1/5] END criterion=gini, max_features=0.33, min_samples_leaf=5, min_samples_split=2, n_estimators=100;, score=0.869 total time=   2.3s\n",
      "[CV 2/5] END criterion=gini, max_features=0.33, min_samples_leaf=5, min_samples_split=2, n_estimators=100;, score=0.888 total time=   2.3s\n",
      "[CV 3/5] END criterion=gini, max_features=0.33, min_samples_leaf=5, min_samples_split=2, n_estimators=100;, score=0.874 total time=   2.3s\n",
      "[CV 4/5] END criterion=gini, max_features=0.33, min_samples_leaf=5, min_samples_split=2, n_estimators=100;, score=0.861 total time=   2.3s\n",
      "[CV 5/5] END criterion=gini, max_features=0.33, min_samples_leaf=5, min_samples_split=2, n_estimators=100;, score=0.867 total time=   2.3s\n",
      "[CV 1/5] END criterion=gini, max_features=0.33, min_samples_leaf=5, min_samples_split=3, n_estimators=50;, score=0.884 total time=   1.1s\n",
      "[CV 2/5] END criterion=gini, max_features=0.33, min_samples_leaf=5, min_samples_split=3, n_estimators=50;, score=0.884 total time=   1.1s\n",
      "[CV 3/5] END criterion=gini, max_features=0.33, min_samples_leaf=5, min_samples_split=3, n_estimators=50;, score=0.865 total time=   1.1s\n",
      "[CV 4/5] END criterion=gini, max_features=0.33, min_samples_leaf=5, min_samples_split=3, n_estimators=50;, score=0.856 total time=   1.1s\n",
      "[CV 5/5] END criterion=gini, max_features=0.33, min_samples_leaf=5, min_samples_split=3, n_estimators=50;, score=0.875 total time=   1.1s\n",
      "[CV 1/5] END criterion=gini, max_features=0.33, min_samples_leaf=5, min_samples_split=3, n_estimators=100;, score=0.875 total time=   2.3s\n",
      "[CV 2/5] END criterion=gini, max_features=0.33, min_samples_leaf=5, min_samples_split=3, n_estimators=100;, score=0.887 total time=   2.4s\n",
      "[CV 3/5] END criterion=gini, max_features=0.33, min_samples_leaf=5, min_samples_split=3, n_estimators=100;, score=0.880 total time=   2.3s\n",
      "[CV 4/5] END criterion=gini, max_features=0.33, min_samples_leaf=5, min_samples_split=3, n_estimators=100;, score=0.867 total time=   2.3s\n",
      "[CV 5/5] END criterion=gini, max_features=0.33, min_samples_leaf=5, min_samples_split=3, n_estimators=100;, score=0.868 total time=   2.3s\n",
      "[CV 1/5] END criterion=entropy, max_features=sqrt, min_samples_leaf=1, min_samples_split=2, n_estimators=50;, score=0.920 total time=   1.8s\n",
      "[CV 2/5] END criterion=entropy, max_features=sqrt, min_samples_leaf=1, min_samples_split=2, n_estimators=50;, score=0.938 total time=   1.8s\n",
      "[CV 3/5] END criterion=entropy, max_features=sqrt, min_samples_leaf=1, min_samples_split=2, n_estimators=50;, score=0.927 total time=   1.8s\n",
      "[CV 4/5] END criterion=entropy, max_features=sqrt, min_samples_leaf=1, min_samples_split=2, n_estimators=50;, score=0.917 total time=   1.8s\n",
      "[CV 5/5] END criterion=entropy, max_features=sqrt, min_samples_leaf=1, min_samples_split=2, n_estimators=50;, score=0.922 total time=   1.8s\n",
      "[CV 1/5] END criterion=entropy, max_features=sqrt, min_samples_leaf=1, min_samples_split=2, n_estimators=100;, score=0.931 total time=   3.6s\n",
      "[CV 2/5] END criterion=entropy, max_features=sqrt, min_samples_leaf=1, min_samples_split=2, n_estimators=100;, score=0.938 total time=   3.6s\n",
      "[CV 3/5] END criterion=entropy, max_features=sqrt, min_samples_leaf=1, min_samples_split=2, n_estimators=100;, score=0.930 total time=   3.6s\n",
      "[CV 4/5] END criterion=entropy, max_features=sqrt, min_samples_leaf=1, min_samples_split=2, n_estimators=100;, score=0.920 total time=   3.6s\n",
      "[CV 5/5] END criterion=entropy, max_features=sqrt, min_samples_leaf=1, min_samples_split=2, n_estimators=100;, score=0.928 total time=   3.7s\n",
      "[CV 1/5] END criterion=entropy, max_features=sqrt, min_samples_leaf=1, min_samples_split=3, n_estimators=50;, score=0.925 total time=   1.9s\n",
      "[CV 2/5] END criterion=entropy, max_features=sqrt, min_samples_leaf=1, min_samples_split=3, n_estimators=50;, score=0.938 total time=   1.8s\n",
      "[CV 3/5] END criterion=entropy, max_features=sqrt, min_samples_leaf=1, min_samples_split=3, n_estimators=50;, score=0.926 total time=   1.8s\n",
      "[CV 4/5] END criterion=entropy, max_features=sqrt, min_samples_leaf=1, min_samples_split=3, n_estimators=50;, score=0.918 total time=   1.8s\n",
      "[CV 5/5] END criterion=entropy, max_features=sqrt, min_samples_leaf=1, min_samples_split=3, n_estimators=50;, score=0.925 total time=   1.8s\n",
      "[CV 1/5] END criterion=entropy, max_features=sqrt, min_samples_leaf=1, min_samples_split=3, n_estimators=100;, score=0.932 total time=   3.6s\n",
      "[CV 2/5] END criterion=entropy, max_features=sqrt, min_samples_leaf=1, min_samples_split=3, n_estimators=100;, score=0.943 total time=   3.6s\n",
      "[CV 3/5] END criterion=entropy, max_features=sqrt, min_samples_leaf=1, min_samples_split=3, n_estimators=100;, score=0.926 total time=   3.6s\n",
      "[CV 4/5] END criterion=entropy, max_features=sqrt, min_samples_leaf=1, min_samples_split=3, n_estimators=100;, score=0.922 total time=   3.6s\n",
      "[CV 5/5] END criterion=entropy, max_features=sqrt, min_samples_leaf=1, min_samples_split=3, n_estimators=100;, score=0.923 total time=   3.6s\n",
      "[CV 1/5] END criterion=entropy, max_features=sqrt, min_samples_leaf=5, min_samples_split=2, n_estimators=50;, score=0.883 total time=   1.5s\n",
      "[CV 2/5] END criterion=entropy, max_features=sqrt, min_samples_leaf=5, min_samples_split=2, n_estimators=50;, score=0.887 total time=   1.5s\n",
      "[CV 3/5] END criterion=entropy, max_features=sqrt, min_samples_leaf=5, min_samples_split=2, n_estimators=50;, score=0.874 total time=   1.5s\n",
      "[CV 4/5] END criterion=entropy, max_features=sqrt, min_samples_leaf=5, min_samples_split=2, n_estimators=50;, score=0.863 total time=   1.5s\n",
      "[CV 5/5] END criterion=entropy, max_features=sqrt, min_samples_leaf=5, min_samples_split=2, n_estimators=50;, score=0.876 total time=   1.5s\n",
      "[CV 1/5] END criterion=entropy, max_features=sqrt, min_samples_leaf=5, min_samples_split=2, n_estimators=100;, score=0.881 total time=   3.0s\n",
      "[CV 2/5] END criterion=entropy, max_features=sqrt, min_samples_leaf=5, min_samples_split=2, n_estimators=100;, score=0.885 total time=   3.1s\n",
      "[CV 3/5] END criterion=entropy, max_features=sqrt, min_samples_leaf=5, min_samples_split=2, n_estimators=100;, score=0.875 total time=   3.3s\n",
      "[CV 4/5] END criterion=entropy, max_features=sqrt, min_samples_leaf=5, min_samples_split=2, n_estimators=100;, score=0.866 total time=   3.2s\n",
      "[CV 5/5] END criterion=entropy, max_features=sqrt, min_samples_leaf=5, min_samples_split=2, n_estimators=100;, score=0.873 total time=   3.1s\n",
      "[CV 1/5] END criterion=entropy, max_features=sqrt, min_samples_leaf=5, min_samples_split=3, n_estimators=50;, score=0.881 total time=   1.5s\n",
      "[CV 2/5] END criterion=entropy, max_features=sqrt, min_samples_leaf=5, min_samples_split=3, n_estimators=50;, score=0.886 total time=   1.5s\n",
      "[CV 3/5] END criterion=entropy, max_features=sqrt, min_samples_leaf=5, min_samples_split=3, n_estimators=50;, score=0.878 total time=   1.5s\n",
      "[CV 4/5] END criterion=entropy, max_features=sqrt, min_samples_leaf=5, min_samples_split=3, n_estimators=50;, score=0.871 total time=   1.5s\n",
      "[CV 5/5] END criterion=entropy, max_features=sqrt, min_samples_leaf=5, min_samples_split=3, n_estimators=50;, score=0.870 total time=   1.5s\n",
      "[CV 1/5] END criterion=entropy, max_features=sqrt, min_samples_leaf=5, min_samples_split=3, n_estimators=100;, score=0.877 total time=   3.1s\n",
      "[CV 2/5] END criterion=entropy, max_features=sqrt, min_samples_leaf=5, min_samples_split=3, n_estimators=100;, score=0.891 total time=   3.1s\n",
      "[CV 3/5] END criterion=entropy, max_features=sqrt, min_samples_leaf=5, min_samples_split=3, n_estimators=100;, score=0.877 total time=   3.1s\n"
     ]
    },
    {
     "name": "stdout",
     "output_type": "stream",
     "text": [
      "[CV 4/5] END criterion=entropy, max_features=sqrt, min_samples_leaf=5, min_samples_split=3, n_estimators=100;, score=0.862 total time=   3.1s\n",
      "[CV 5/5] END criterion=entropy, max_features=sqrt, min_samples_leaf=5, min_samples_split=3, n_estimators=100;, score=0.873 total time=   3.1s\n",
      "[CV 1/5] END criterion=entropy, max_features=0.33, min_samples_leaf=1, min_samples_split=2, n_estimators=50;, score=0.930 total time=   1.8s\n",
      "[CV 2/5] END criterion=entropy, max_features=0.33, min_samples_leaf=1, min_samples_split=2, n_estimators=50;, score=0.936 total time=   1.8s\n",
      "[CV 3/5] END criterion=entropy, max_features=0.33, min_samples_leaf=1, min_samples_split=2, n_estimators=50;, score=0.926 total time=   1.8s\n",
      "[CV 4/5] END criterion=entropy, max_features=0.33, min_samples_leaf=1, min_samples_split=2, n_estimators=50;, score=0.922 total time=   1.8s\n",
      "[CV 5/5] END criterion=entropy, max_features=0.33, min_samples_leaf=1, min_samples_split=2, n_estimators=50;, score=0.926 total time=   1.8s\n",
      "[CV 1/5] END criterion=entropy, max_features=0.33, min_samples_leaf=1, min_samples_split=2, n_estimators=100;, score=0.928 total time=   3.6s\n",
      "[CV 2/5] END criterion=entropy, max_features=0.33, min_samples_leaf=1, min_samples_split=2, n_estimators=100;, score=0.938 total time=   3.6s\n",
      "[CV 3/5] END criterion=entropy, max_features=0.33, min_samples_leaf=1, min_samples_split=2, n_estimators=100;, score=0.928 total time=   3.6s\n",
      "[CV 4/5] END criterion=entropy, max_features=0.33, min_samples_leaf=1, min_samples_split=2, n_estimators=100;, score=0.923 total time=   3.5s\n",
      "[CV 5/5] END criterion=entropy, max_features=0.33, min_samples_leaf=1, min_samples_split=2, n_estimators=100;, score=0.922 total time=   3.6s\n",
      "[CV 1/5] END criterion=entropy, max_features=0.33, min_samples_leaf=1, min_samples_split=3, n_estimators=50;, score=0.923 total time=   1.8s\n",
      "[CV 2/5] END criterion=entropy, max_features=0.33, min_samples_leaf=1, min_samples_split=3, n_estimators=50;, score=0.935 total time=   1.8s\n",
      "[CV 3/5] END criterion=entropy, max_features=0.33, min_samples_leaf=1, min_samples_split=3, n_estimators=50;, score=0.922 total time=   1.7s\n",
      "[CV 4/5] END criterion=entropy, max_features=0.33, min_samples_leaf=1, min_samples_split=3, n_estimators=50;, score=0.914 total time=   1.7s\n",
      "[CV 5/5] END criterion=entropy, max_features=0.33, min_samples_leaf=1, min_samples_split=3, n_estimators=50;, score=0.926 total time=   1.8s\n",
      "[CV 1/5] END criterion=entropy, max_features=0.33, min_samples_leaf=1, min_samples_split=3, n_estimators=100;, score=0.924 total time=   3.6s\n",
      "[CV 2/5] END criterion=entropy, max_features=0.33, min_samples_leaf=1, min_samples_split=3, n_estimators=100;, score=0.938 total time=   3.6s\n",
      "[CV 3/5] END criterion=entropy, max_features=0.33, min_samples_leaf=1, min_samples_split=3, n_estimators=100;, score=0.929 total time=   3.6s\n",
      "[CV 4/5] END criterion=entropy, max_features=0.33, min_samples_leaf=1, min_samples_split=3, n_estimators=100;, score=0.923 total time=   3.6s\n",
      "[CV 5/5] END criterion=entropy, max_features=0.33, min_samples_leaf=1, min_samples_split=3, n_estimators=100;, score=0.925 total time=   3.6s\n",
      "[CV 1/5] END criterion=entropy, max_features=0.33, min_samples_leaf=5, min_samples_split=2, n_estimators=50;, score=0.881 total time=   1.5s\n",
      "[CV 2/5] END criterion=entropy, max_features=0.33, min_samples_leaf=5, min_samples_split=2, n_estimators=50;, score=0.884 total time=   1.5s\n",
      "[CV 3/5] END criterion=entropy, max_features=0.33, min_samples_leaf=5, min_samples_split=2, n_estimators=50;, score=0.878 total time=   1.5s\n",
      "[CV 4/5] END criterion=entropy, max_features=0.33, min_samples_leaf=5, min_samples_split=2, n_estimators=50;, score=0.873 total time=   1.5s\n",
      "[CV 5/5] END criterion=entropy, max_features=0.33, min_samples_leaf=5, min_samples_split=2, n_estimators=50;, score=0.873 total time=   1.5s\n",
      "[CV 1/5] END criterion=entropy, max_features=0.33, min_samples_leaf=5, min_samples_split=2, n_estimators=100;, score=0.883 total time=   3.1s\n",
      "[CV 2/5] END criterion=entropy, max_features=0.33, min_samples_leaf=5, min_samples_split=2, n_estimators=100;, score=0.890 total time=   3.1s\n",
      "[CV 3/5] END criterion=entropy, max_features=0.33, min_samples_leaf=5, min_samples_split=2, n_estimators=100;, score=0.872 total time=   3.1s\n",
      "[CV 4/5] END criterion=entropy, max_features=0.33, min_samples_leaf=5, min_samples_split=2, n_estimators=100;, score=0.860 total time=   3.1s\n",
      "[CV 5/5] END criterion=entropy, max_features=0.33, min_samples_leaf=5, min_samples_split=2, n_estimators=100;, score=0.870 total time=   3.1s\n",
      "[CV 1/5] END criterion=entropy, max_features=0.33, min_samples_leaf=5, min_samples_split=3, n_estimators=50;, score=0.883 total time=   1.5s\n",
      "[CV 2/5] END criterion=entropy, max_features=0.33, min_samples_leaf=5, min_samples_split=3, n_estimators=50;, score=0.889 total time=   1.5s\n",
      "[CV 3/5] END criterion=entropy, max_features=0.33, min_samples_leaf=5, min_samples_split=3, n_estimators=50;, score=0.872 total time=   1.5s\n",
      "[CV 4/5] END criterion=entropy, max_features=0.33, min_samples_leaf=5, min_samples_split=3, n_estimators=50;, score=0.858 total time=   1.6s\n",
      "[CV 5/5] END criterion=entropy, max_features=0.33, min_samples_leaf=5, min_samples_split=3, n_estimators=50;, score=0.869 total time=   1.5s\n",
      "[CV 1/5] END criterion=entropy, max_features=0.33, min_samples_leaf=5, min_samples_split=3, n_estimators=100;, score=0.880 total time=   3.1s\n",
      "[CV 2/5] END criterion=entropy, max_features=0.33, min_samples_leaf=5, min_samples_split=3, n_estimators=100;, score=0.886 total time=   3.1s\n",
      "[CV 3/5] END criterion=entropy, max_features=0.33, min_samples_leaf=5, min_samples_split=3, n_estimators=100;, score=0.878 total time=   3.1s\n",
      "[CV 4/5] END criterion=entropy, max_features=0.33, min_samples_leaf=5, min_samples_split=3, n_estimators=100;, score=0.867 total time=   3.0s\n",
      "[CV 5/5] END criterion=entropy, max_features=0.33, min_samples_leaf=5, min_samples_split=3, n_estimators=100;, score=0.870 total time=   3.1s\n"
     ]
    },
    {
     "data": {
      "text/html": [
       "<style>#sk-container-id-1 {color: black;background-color: white;}#sk-container-id-1 pre{padding: 0;}#sk-container-id-1 div.sk-toggleable {background-color: white;}#sk-container-id-1 label.sk-toggleable__label {cursor: pointer;display: block;width: 100%;margin-bottom: 0;padding: 0.3em;box-sizing: border-box;text-align: center;}#sk-container-id-1 label.sk-toggleable__label-arrow:before {content: \"▸\";float: left;margin-right: 0.25em;color: #696969;}#sk-container-id-1 label.sk-toggleable__label-arrow:hover:before {color: black;}#sk-container-id-1 div.sk-estimator:hover label.sk-toggleable__label-arrow:before {color: black;}#sk-container-id-1 div.sk-toggleable__content {max-height: 0;max-width: 0;overflow: hidden;text-align: left;background-color: #f0f8ff;}#sk-container-id-1 div.sk-toggleable__content pre {margin: 0.2em;color: black;border-radius: 0.25em;background-color: #f0f8ff;}#sk-container-id-1 input.sk-toggleable__control:checked~div.sk-toggleable__content {max-height: 200px;max-width: 100%;overflow: auto;}#sk-container-id-1 input.sk-toggleable__control:checked~label.sk-toggleable__label-arrow:before {content: \"▾\";}#sk-container-id-1 div.sk-estimator input.sk-toggleable__control:checked~label.sk-toggleable__label {background-color: #d4ebff;}#sk-container-id-1 div.sk-label input.sk-toggleable__control:checked~label.sk-toggleable__label {background-color: #d4ebff;}#sk-container-id-1 input.sk-hidden--visually {border: 0;clip: rect(1px 1px 1px 1px);clip: rect(1px, 1px, 1px, 1px);height: 1px;margin: -1px;overflow: hidden;padding: 0;position: absolute;width: 1px;}#sk-container-id-1 div.sk-estimator {font-family: monospace;background-color: #f0f8ff;border: 1px dotted black;border-radius: 0.25em;box-sizing: border-box;margin-bottom: 0.5em;}#sk-container-id-1 div.sk-estimator:hover {background-color: #d4ebff;}#sk-container-id-1 div.sk-parallel-item::after {content: \"\";width: 100%;border-bottom: 1px solid gray;flex-grow: 1;}#sk-container-id-1 div.sk-label:hover label.sk-toggleable__label {background-color: #d4ebff;}#sk-container-id-1 div.sk-serial::before {content: \"\";position: absolute;border-left: 1px solid gray;box-sizing: border-box;top: 0;bottom: 0;left: 50%;z-index: 0;}#sk-container-id-1 div.sk-serial {display: flex;flex-direction: column;align-items: center;background-color: white;padding-right: 0.2em;padding-left: 0.2em;position: relative;}#sk-container-id-1 div.sk-item {position: relative;z-index: 1;}#sk-container-id-1 div.sk-parallel {display: flex;align-items: stretch;justify-content: center;background-color: white;position: relative;}#sk-container-id-1 div.sk-item::before, #sk-container-id-1 div.sk-parallel-item::before {content: \"\";position: absolute;border-left: 1px solid gray;box-sizing: border-box;top: 0;bottom: 0;left: 50%;z-index: -1;}#sk-container-id-1 div.sk-parallel-item {display: flex;flex-direction: column;z-index: 1;position: relative;background-color: white;}#sk-container-id-1 div.sk-parallel-item:first-child::after {align-self: flex-end;width: 50%;}#sk-container-id-1 div.sk-parallel-item:last-child::after {align-self: flex-start;width: 50%;}#sk-container-id-1 div.sk-parallel-item:only-child::after {width: 0;}#sk-container-id-1 div.sk-dashed-wrapped {border: 1px dashed gray;margin: 0 0.4em 0.5em 0.4em;box-sizing: border-box;padding-bottom: 0.4em;background-color: white;}#sk-container-id-1 div.sk-label label {font-family: monospace;font-weight: bold;display: inline-block;line-height: 1.2em;}#sk-container-id-1 div.sk-label-container {text-align: center;}#sk-container-id-1 div.sk-container {/* jupyter's `normalize.less` sets `[hidden] { display: none; }` but bootstrap.min.css set `[hidden] { display: none !important; }` so we also need the `!important` here to be able to override the default hidden behavior on the sphinx rendered scikit-learn.org. See: https://github.com/scikit-learn/scikit-learn/issues/21755 */display: inline-block !important;position: relative;}#sk-container-id-1 div.sk-text-repr-fallback {display: none;}</style><div id=\"sk-container-id-1\" class=\"sk-top-container\"><div class=\"sk-text-repr-fallback\"><pre>GridSearchCV(cv=5, estimator=RandomForestClassifier(),\n",
       "             param_grid={&#x27;criterion&#x27;: [&#x27;gini&#x27;, &#x27;entropy&#x27;],\n",
       "                         &#x27;max_features&#x27;: [&#x27;sqrt&#x27;, 0.33],\n",
       "                         &#x27;min_samples_leaf&#x27;: [1, 5],\n",
       "                         &#x27;min_samples_split&#x27;: [2, 3],\n",
       "                         &#x27;n_estimators&#x27;: [50, 100]},\n",
       "             scoring=&#x27;accuracy&#x27;, verbose=3)</pre><b>In a Jupyter environment, please rerun this cell to show the HTML representation or trust the notebook. <br />On GitHub, the HTML representation is unable to render, please try loading this page with nbviewer.org.</b></div><div class=\"sk-container\" hidden><div class=\"sk-item sk-dashed-wrapped\"><div class=\"sk-label-container\"><div class=\"sk-label sk-toggleable\"><input class=\"sk-toggleable__control sk-hidden--visually\" id=\"sk-estimator-id-1\" type=\"checkbox\" ><label for=\"sk-estimator-id-1\" class=\"sk-toggleable__label sk-toggleable__label-arrow\">GridSearchCV</label><div class=\"sk-toggleable__content\"><pre>GridSearchCV(cv=5, estimator=RandomForestClassifier(),\n",
       "             param_grid={&#x27;criterion&#x27;: [&#x27;gini&#x27;, &#x27;entropy&#x27;],\n",
       "                         &#x27;max_features&#x27;: [&#x27;sqrt&#x27;, 0.33],\n",
       "                         &#x27;min_samples_leaf&#x27;: [1, 5],\n",
       "                         &#x27;min_samples_split&#x27;: [2, 3],\n",
       "                         &#x27;n_estimators&#x27;: [50, 100]},\n",
       "             scoring=&#x27;accuracy&#x27;, verbose=3)</pre></div></div></div><div class=\"sk-parallel\"><div class=\"sk-parallel-item\"><div class=\"sk-item\"><div class=\"sk-label-container\"><div class=\"sk-label sk-toggleable\"><input class=\"sk-toggleable__control sk-hidden--visually\" id=\"sk-estimator-id-2\" type=\"checkbox\" ><label for=\"sk-estimator-id-2\" class=\"sk-toggleable__label sk-toggleable__label-arrow\">estimator: RandomForestClassifier</label><div class=\"sk-toggleable__content\"><pre>RandomForestClassifier()</pre></div></div></div><div class=\"sk-serial\"><div class=\"sk-item\"><div class=\"sk-estimator sk-toggleable\"><input class=\"sk-toggleable__control sk-hidden--visually\" id=\"sk-estimator-id-3\" type=\"checkbox\" ><label for=\"sk-estimator-id-3\" class=\"sk-toggleable__label sk-toggleable__label-arrow\">RandomForestClassifier</label><div class=\"sk-toggleable__content\"><pre>RandomForestClassifier()</pre></div></div></div></div></div></div></div></div></div></div>"
      ],
      "text/plain": [
       "GridSearchCV(cv=5, estimator=RandomForestClassifier(),\n",
       "             param_grid={'criterion': ['gini', 'entropy'],\n",
       "                         'max_features': ['sqrt', 0.33],\n",
       "                         'min_samples_leaf': [1, 5],\n",
       "                         'min_samples_split': [2, 3],\n",
       "                         'n_estimators': [50, 100]},\n",
       "             scoring='accuracy', verbose=3)"
      ]
     },
     "execution_count": 30,
     "metadata": {},
     "output_type": "execute_result"
    }
   ],
   "source": [
    "rf_grid.fit(X_train, y_train)"
   ]
  },
  {
   "cell_type": "code",
   "execution_count": 31,
   "id": "8a451063",
   "metadata": {},
   "outputs": [],
   "source": [
    "#best_params_"
   ]
  },
  {
   "cell_type": "code",
   "execution_count": 32,
   "id": "b8c7b268",
   "metadata": {},
   "outputs": [],
   "source": [
    "# criterion=entropy, max_features=sqrt, min_samples_leaf=1, min_samples_split=3, n_estimators=100;, score=0.942"
   ]
  },
  {
   "cell_type": "code",
   "execution_count": 33,
   "id": "5977fae3",
   "metadata": {},
   "outputs": [
    {
     "name": "stdout",
     "output_type": "stream",
     "text": [
      "{'criterion': 'gini', 'max_features': 0.33, 'min_samples_leaf': 1, 'min_samples_split': 2, 'n_estimators': 50}\n"
     ]
    }
   ],
   "source": [
    "print(rf_grid.best_params_)"
   ]
  },
  {
   "cell_type": "code",
   "execution_count": 34,
   "id": "c02d6c48",
   "metadata": {},
   "outputs": [
    {
     "name": "stdout",
     "output_type": "stream",
     "text": [
      "0.9300315651612359\n"
     ]
    }
   ],
   "source": [
    "print(rf_grid.best_score_)"
   ]
  },
  {
   "cell_type": "code",
   "execution_count": 35,
   "id": "b03f7a7c",
   "metadata": {},
   "outputs": [],
   "source": [
    "# LIME SECTION\n",
    "import sklearn\n",
    "import sklearn.datasets\n",
    "import sklearn.ensemble\n",
    "import numpy as np\n",
    "import lime\n",
    "import lime.lime_tabular\n",
    "from __future__ import print_function"
   ]
  },
  {
   "cell_type": "code",
   "execution_count": 36,
   "id": "21e786f4",
   "metadata": {},
   "outputs": [],
   "source": [
    "predict_fn_rf = lambda x: rf_grid.predict_proba(x).astype(float)\n"
   ]
  },
  {
   "cell_type": "code",
   "execution_count": 37,
   "id": "7e99d5bf",
   "metadata": {},
   "outputs": [],
   "source": [
    "# Line-up the feature names\n",
    "\n",
    "feature_names_int = list(num_columns)"
   ]
  },
  {
   "cell_type": "code",
   "execution_count": 38,
   "id": "015cec58",
   "metadata": {},
   "outputs": [
    {
     "data": {
      "text/plain": [
       "array([[6.2700000e+02, 2.0000000e+00, 0.0000000e+00, ..., 1.0000000e+00,\n",
       "        0.0000000e+00, 9.3132610e+04],\n",
       "       [7.2600000e+02, 1.0000000e+00, 1.0000000e+00, ..., 1.0000000e+00,\n",
       "        0.0000000e+00, 1.9519240e+05],\n",
       "       [7.3100000e+02, 2.0000000e+00, 1.0000000e+00, ..., 0.0000000e+00,\n",
       "        0.0000000e+00, 1.7271835e+05],\n",
       "       ...,\n",
       "       [6.6700000e+02, 0.0000000e+00, 1.0000000e+00, ..., 1.0000000e+00,\n",
       "        0.0000000e+00, 9.7508040e+04],\n",
       "       [6.7400000e+02, 0.0000000e+00, 1.0000000e+00, ..., 1.0000000e+00,\n",
       "        1.0000000e+00, 1.0259190e+05],\n",
       "       [6.9700000e+02, 2.0000000e+00, 1.0000000e+00, ..., 1.0000000e+00,\n",
       "        1.0000000e+00, 5.3581140e+04]])"
      ]
     },
     "execution_count": 38,
     "metadata": {},
     "output_type": "execute_result"
    }
   ],
   "source": [
    "X_train.values"
   ]
  },
  {
   "cell_type": "code",
   "execution_count": 5,
   "id": "64e32390",
   "metadata": {},
   "outputs": [
    {
     "ename": "NameError",
     "evalue": "name 'feature_names_int' is not defined",
     "output_type": "error",
     "traceback": [
      "\u001b[1;31m---------------------------------------------------------------------------\u001b[0m",
      "\u001b[1;31mNameError\u001b[0m                                 Traceback (most recent call last)",
      "Cell \u001b[1;32mIn[5], line 2\u001b[0m\n\u001b[0;32m      1\u001b[0m \u001b[38;5;66;03m#Create the LIME Explainer\u001b[39;00m\n\u001b[1;32m----> 2\u001b[0m explainer \u001b[38;5;241m=\u001b[39m lime\u001b[38;5;241m.\u001b[39mlime_tabular\u001b[38;5;241m.\u001b[39mLimeTabularExplainer(X_train\u001b[38;5;241m.\u001b[39mvalues ,feature_names \u001b[38;5;241m=\u001b[39m \u001b[43mfeature_names_int\u001b[49m,class_names\u001b[38;5;241m=\u001b[39m[\u001b[38;5;124m'\u001b[39m\u001b[38;5;124m0\u001b[39m\u001b[38;5;124m'\u001b[39m,\u001b[38;5;124m'\u001b[39m\u001b[38;5;124m1\u001b[39m\u001b[38;5;124m'\u001b[39m],\n\u001b[0;32m      3\u001b[0m                                                    kernel_width\u001b[38;5;241m=\u001b[39m\u001b[38;5;241m3\u001b[39m)\n",
      "\u001b[1;31mNameError\u001b[0m: name 'feature_names_int' is not defined"
     ]
    }
   ],
   "source": [
    "#Create the LIME Explainer\n",
    "explainer = lime.lime_tabular.LimeTabularExplainer(X_train.values ,feature_names = feature_names_int,class_names=['0','1'],\n",
    "                                                   kernel_width=3)\n",
    "\n"
   ]
  },
  {
   "cell_type": "code",
   "execution_count": 74,
   "id": "9fedd7f9",
   "metadata": {},
   "outputs": [
    {
     "data": {
      "text/plain": [
       "array([5.350000e+02, 0.000000e+00, 0.000000e+00, 2.900000e+01,\n",
       "       5.000000e+00, 0.000000e+00, 2.000000e+00, 0.000000e+00,\n",
       "       1.000000e+00, 5.270955e+04])"
      ]
     },
     "execution_count": 74,
     "metadata": {},
     "output_type": "execute_result"
    }
   ],
   "source": [
    "q=X_test.values\n",
    "q[0]"
   ]
  },
  {
   "cell_type": "code",
   "execution_count": 4,
   "id": "43341c70",
   "metadata": {},
   "outputs": [
    {
     "ename": "NameError",
     "evalue": "name 'explainer' is not defined",
     "output_type": "error",
     "traceback": [
      "\u001b[1;31m---------------------------------------------------------------------------\u001b[0m",
      "\u001b[1;31mNameError\u001b[0m                                 Traceback (most recent call last)",
      "Cell \u001b[1;32mIn[4], line 2\u001b[0m\n\u001b[0;32m      1\u001b[0m \u001b[38;5;66;03m# Get the explanation for RandomForest\u001b[39;00m\n\u001b[1;32m----> 2\u001b[0m exp \u001b[38;5;241m=\u001b[39m \u001b[43mexplainer\u001b[49m\u001b[38;5;241m.\u001b[39mexplain_instance(q, predict_fn_rf, num_features\u001b[38;5;241m=\u001b[39m\u001b[38;5;241m10\u001b[39m)\n\u001b[0;32m      3\u001b[0m exp\u001b[38;5;241m.\u001b[39mshow_in_notebook(show_all\u001b[38;5;241m=\u001b[39m\u001b[38;5;28;01mFalse\u001b[39;00m)\n",
      "\u001b[1;31mNameError\u001b[0m: name 'explainer' is not defined"
     ]
    }
   ],
   "source": [
    "# Get the explanation for RandomForest\n",
    "exp = explainer.explain_instance(q, predict_fn_rf, num_features=10)\n",
    "exp.show_in_notebook(show_all=False)"
   ]
  },
  {
   "cell_type": "code",
   "execution_count": 42,
   "id": "f4d3bafb",
   "metadata": {},
   "outputs": [
    {
     "data": {
      "text/plain": [
       "1"
      ]
     },
     "execution_count": 42,
     "metadata": {},
     "output_type": "execute_result"
    }
   ],
   "source": [
    "y_test.values[1]"
   ]
  },
  {
   "cell_type": "code",
   "execution_count": 43,
   "id": "a281bb90",
   "metadata": {},
   "outputs": [
    {
     "name": "stdout",
     "output_type": "stream",
     "text": [
      "Training Data Score: 1.0\n",
      "Testing Data Score: 0.9380493930514859\n"
     ]
    }
   ],
   "source": [
    "print(f\"Training Data Score: {rf_grid.score(X_train, y_train)}\")\n",
    "print(f\"Testing Data Score: {rf_grid.score(X_test, y_test)}\")"
   ]
  },
  {
   "cell_type": "code",
   "execution_count": 44,
   "id": "ce04de0f",
   "metadata": {},
   "outputs": [
    {
     "name": "stdout",
     "output_type": "stream",
     "text": [
      "First 10 Predictions:   [0 1 0 1 0 0 0 1 0 0]\n",
      "First 10 Actual labels: [0, 1, 0, 1, 0, 0, 0, 1, 0, 0]\n"
     ]
    }
   ],
   "source": [
    "predictions = rf_grid.predict(X_test)\n",
    "print(f\"First 10 Predictions:   {predictions[:10]}\")\n",
    "print(f\"First 10 Actual labels: {y_test[:10].tolist()}\")"
   ]
  },
  {
   "cell_type": "code",
   "execution_count": 45,
   "id": "8283cbef",
   "metadata": {},
   "outputs": [
    {
     "data": {
      "text/html": [
       "<div>\n",
       "<style scoped>\n",
       "    .dataframe tbody tr th:only-of-type {\n",
       "        vertical-align: middle;\n",
       "    }\n",
       "\n",
       "    .dataframe tbody tr th {\n",
       "        vertical-align: top;\n",
       "    }\n",
       "\n",
       "    .dataframe thead th {\n",
       "        text-align: right;\n",
       "    }\n",
       "</style>\n",
       "<table border=\"1\" class=\"dataframe\">\n",
       "  <thead>\n",
       "    <tr style=\"text-align: right;\">\n",
       "      <th></th>\n",
       "      <th>Prediction</th>\n",
       "      <th>Actual</th>\n",
       "    </tr>\n",
       "  </thead>\n",
       "  <tbody>\n",
       "    <tr>\n",
       "      <th>0</th>\n",
       "      <td>0</td>\n",
       "      <td>0</td>\n",
       "    </tr>\n",
       "    <tr>\n",
       "      <th>1</th>\n",
       "      <td>1</td>\n",
       "      <td>1</td>\n",
       "    </tr>\n",
       "    <tr>\n",
       "      <th>2</th>\n",
       "      <td>0</td>\n",
       "      <td>0</td>\n",
       "    </tr>\n",
       "    <tr>\n",
       "      <th>3</th>\n",
       "      <td>1</td>\n",
       "      <td>1</td>\n",
       "    </tr>\n",
       "    <tr>\n",
       "      <th>4</th>\n",
       "      <td>0</td>\n",
       "      <td>0</td>\n",
       "    </tr>\n",
       "    <tr>\n",
       "      <th>...</th>\n",
       "      <td>...</td>\n",
       "      <td>...</td>\n",
       "    </tr>\n",
       "    <tr>\n",
       "      <th>4773</th>\n",
       "      <td>1</td>\n",
       "      <td>1</td>\n",
       "    </tr>\n",
       "    <tr>\n",
       "      <th>4774</th>\n",
       "      <td>0</td>\n",
       "      <td>0</td>\n",
       "    </tr>\n",
       "    <tr>\n",
       "      <th>4775</th>\n",
       "      <td>0</td>\n",
       "      <td>0</td>\n",
       "    </tr>\n",
       "    <tr>\n",
       "      <th>4776</th>\n",
       "      <td>1</td>\n",
       "      <td>1</td>\n",
       "    </tr>\n",
       "    <tr>\n",
       "      <th>4777</th>\n",
       "      <td>1</td>\n",
       "      <td>1</td>\n",
       "    </tr>\n",
       "  </tbody>\n",
       "</table>\n",
       "<p>4778 rows × 2 columns</p>\n",
       "</div>"
      ],
      "text/plain": [
       "      Prediction  Actual\n",
       "0              0       0\n",
       "1              1       1\n",
       "2              0       0\n",
       "3              1       1\n",
       "4              0       0\n",
       "...          ...     ...\n",
       "4773           1       1\n",
       "4774           0       0\n",
       "4775           0       0\n",
       "4776           1       1\n",
       "4777           1       1\n",
       "\n",
       "[4778 rows x 2 columns]"
      ]
     },
     "execution_count": 45,
     "metadata": {},
     "output_type": "execute_result"
    }
   ],
   "source": [
    "pd.DataFrame({\"Prediction\": predictions, \"Actual\": y_test}).reset_index(drop=True)"
   ]
  },
  {
   "cell_type": "code",
   "execution_count": 46,
   "id": "f7c97285",
   "metadata": {},
   "outputs": [
    {
     "name": "stdout",
     "output_type": "stream",
     "text": [
      "[[2190  236]\n",
      " [  60 2292]]\n"
     ]
    }
   ],
   "source": [
    "cm = confusion_matrix(y_test, predictions)\n",
    "print(cm)"
   ]
  },
  {
   "cell_type": "code",
   "execution_count": 47,
   "id": "455590b1",
   "metadata": {},
   "outputs": [
    {
     "name": "stdout",
     "output_type": "stream",
     "text": [
      "[[0.9  0.1 ]\n",
      " [0.03 0.97]]\n"
     ]
    }
   ],
   "source": [
    "cm = np.around(cm / cm.sum(axis=1)[:, np.newaxis], 2)\n",
    "print(cm)"
   ]
  },
  {
   "cell_type": "code",
   "execution_count": 48,
   "id": "37decf51",
   "metadata": {},
   "outputs": [
    {
     "name": "stdout",
     "output_type": "stream",
     "text": [
      "              precision    recall  f1-score   support\n",
      "\n",
      "           0       0.97      0.90      0.94      2426\n",
      "           1       0.91      0.97      0.94      2352\n",
      "\n",
      "    accuracy                           0.94      4778\n",
      "   macro avg       0.94      0.94      0.94      4778\n",
      "weighted avg       0.94      0.94      0.94      4778\n",
      "\n"
     ]
    }
   ],
   "source": [
    "print(classification_report(y_test, predictions))"
   ]
  },
  {
   "cell_type": "code",
   "execution_count": 49,
   "id": "8f644d2c",
   "metadata": {},
   "outputs": [],
   "source": [
    "pred = rf_grid.predict(X_test[:1])"
   ]
  },
  {
   "cell_type": "code",
   "execution_count": 50,
   "id": "d64fa27a",
   "metadata": {},
   "outputs": [
    {
     "name": "stdout",
     "output_type": "stream",
     "text": [
      "Predicted classes: [0]\n",
      "Actual Labels: [0]\n"
     ]
    }
   ],
   "source": [
    "print(f\"Predicted classes: {pred}\")\n",
    "print(f\"Actual Labels: {list(y_test[:1])}\")"
   ]
  },
  {
   "cell_type": "code",
   "execution_count": 51,
   "id": "04f2b7c1",
   "metadata": {},
   "outputs": [
    {
     "data": {
      "text/plain": [
       "['../models/nate_random_forest.sav']"
      ]
     },
     "execution_count": 51,
     "metadata": {},
     "output_type": "execute_result"
    }
   ],
   "source": [
    "import joblib\n",
    "\n",
    "filename = '../models/nate_random_forest.sav'\n",
    "joblib.dump(rf_grid, filename)"
   ]
  },
  {
   "cell_type": "code",
   "execution_count": 1,
   "id": "5f35052f",
   "metadata": {},
   "outputs": [],
   "source": [
    "import joblib\n",
    "filename = '../models/nate_random_forest.sav'\n",
    "\n",
    "rf_model = joblib.load(filename)\n",
    "# print(rf_model.score(X_test, y_test))"
   ]
  },
  {
   "cell_type": "code",
   "execution_count": null,
   "id": "3c0a6ea2",
   "metadata": {},
   "outputs": [],
   "source": [
    "# X_train.to_csv(\"../Resources/X_train.csv\")\n",
    "# X_test.to_csv(\"../Resources/X_test.csv\")\n",
    "# y_train.to_csv(\"../Resources/y_train.csv\")\n",
    "# y_test.to_csv(\"../Resources/y_test.csv\")"
   ]
  },
  {
   "cell_type": "code",
   "execution_count": 4,
   "id": "56a9608f",
   "metadata": {},
   "outputs": [
    {
     "data": {
      "text/html": [
       "<div>\n",
       "<style scoped>\n",
       "    .dataframe tbody tr th:only-of-type {\n",
       "        vertical-align: middle;\n",
       "    }\n",
       "\n",
       "    .dataframe tbody tr th {\n",
       "        vertical-align: top;\n",
       "    }\n",
       "\n",
       "    .dataframe thead th {\n",
       "        text-align: right;\n",
       "    }\n",
       "</style>\n",
       "<table border=\"1\" class=\"dataframe\">\n",
       "  <thead>\n",
       "    <tr style=\"text-align: right;\">\n",
       "      <th></th>\n",
       "      <th>Unnamed: 0</th>\n",
       "      <th>Exited</th>\n",
       "    </tr>\n",
       "  </thead>\n",
       "  <tbody>\n",
       "    <tr>\n",
       "      <th>0</th>\n",
       "      <td>6126</td>\n",
       "      <td>0</td>\n",
       "    </tr>\n",
       "    <tr>\n",
       "      <th>1</th>\n",
       "      <td>7093</td>\n",
       "      <td>1</td>\n",
       "    </tr>\n",
       "    <tr>\n",
       "      <th>2</th>\n",
       "      <td>1659</td>\n",
       "      <td>0</td>\n",
       "    </tr>\n",
       "    <tr>\n",
       "      <th>3</th>\n",
       "      <td>15727</td>\n",
       "      <td>1</td>\n",
       "    </tr>\n",
       "    <tr>\n",
       "      <th>4</th>\n",
       "      <td>9682</td>\n",
       "      <td>0</td>\n",
       "    </tr>\n",
       "  </tbody>\n",
       "</table>\n",
       "</div>"
      ],
      "text/plain": [
       "   Unnamed: 0  Exited\n",
       "0        6126       0\n",
       "1        7093       1\n",
       "2        1659       0\n",
       "3       15727       1\n",
       "4        9682       0"
      ]
     },
     "execution_count": 4,
     "metadata": {},
     "output_type": "execute_result"
    }
   ],
   "source": [
    "test = pd.read_csv(\"../Resources/X_test.csv\")\n",
    "test_y = pd.read_csv(\"../Resources/y_test.csv\")\n",
    "\n",
    "test_y.head()"
   ]
  },
  {
   "cell_type": "code",
   "execution_count": 6,
   "id": "fdd2dfcd",
   "metadata": {},
   "outputs": [
    {
     "ename": "KeyError",
     "evalue": "\"['Unnamed: 0'] not found in axis\"",
     "output_type": "error",
     "traceback": [
      "\u001b[1;31m---------------------------------------------------------------------------\u001b[0m",
      "\u001b[1;31mKeyError\u001b[0m                                  Traceback (most recent call last)",
      "Cell \u001b[1;32mIn[6], line 1\u001b[0m\n\u001b[1;32m----> 1\u001b[0m test \u001b[38;5;241m=\u001b[39m \u001b[43mtest\u001b[49m\u001b[38;5;241;43m.\u001b[39;49m\u001b[43mdrop\u001b[49m\u001b[43m(\u001b[49m\u001b[38;5;124;43m\"\u001b[39;49m\u001b[38;5;124;43mUnnamed: 0\u001b[39;49m\u001b[38;5;124;43m\"\u001b[39;49m\u001b[43m,\u001b[49m\u001b[43m \u001b[49m\u001b[43maxis\u001b[49m\u001b[38;5;241;43m=\u001b[39;49m\u001b[38;5;28;43;01mTrue\u001b[39;49;00m\u001b[43m)\u001b[49m\n\u001b[0;32m      2\u001b[0m test_y \u001b[38;5;241m=\u001b[39m test_y\u001b[38;5;241m.\u001b[39mdrop(\u001b[38;5;124m\"\u001b[39m\u001b[38;5;124mUnnamed: 0\u001b[39m\u001b[38;5;124m\"\u001b[39m, axis\u001b[38;5;241m=\u001b[39m\u001b[38;5;28;01mTrue\u001b[39;00m)\n",
      "File \u001b[1;32mc:\\python 3.8\\lib\\site-packages\\pandas\\core\\frame.py:5266\u001b[0m, in \u001b[0;36mDataFrame.drop\u001b[1;34m(self, labels, axis, index, columns, level, inplace, errors)\u001b[0m\n\u001b[0;32m   5118\u001b[0m \u001b[38;5;28;01mdef\u001b[39;00m \u001b[38;5;21mdrop\u001b[39m(\n\u001b[0;32m   5119\u001b[0m     \u001b[38;5;28mself\u001b[39m,\n\u001b[0;32m   5120\u001b[0m     labels: IndexLabel \u001b[38;5;241m=\u001b[39m \u001b[38;5;28;01mNone\u001b[39;00m,\n\u001b[1;32m   (...)\u001b[0m\n\u001b[0;32m   5127\u001b[0m     errors: IgnoreRaise \u001b[38;5;241m=\u001b[39m \u001b[38;5;124m\"\u001b[39m\u001b[38;5;124mraise\u001b[39m\u001b[38;5;124m\"\u001b[39m,\n\u001b[0;32m   5128\u001b[0m ) \u001b[38;5;241m-\u001b[39m\u001b[38;5;241m>\u001b[39m DataFrame \u001b[38;5;241m|\u001b[39m \u001b[38;5;28;01mNone\u001b[39;00m:\n\u001b[0;32m   5129\u001b[0m \u001b[38;5;250m    \u001b[39m\u001b[38;5;124;03m\"\"\"\u001b[39;00m\n\u001b[0;32m   5130\u001b[0m \u001b[38;5;124;03m    Drop specified labels from rows or columns.\u001b[39;00m\n\u001b[0;32m   5131\u001b[0m \n\u001b[1;32m   (...)\u001b[0m\n\u001b[0;32m   5264\u001b[0m \u001b[38;5;124;03m            weight  1.0     0.8\u001b[39;00m\n\u001b[0;32m   5265\u001b[0m \u001b[38;5;124;03m    \"\"\"\u001b[39;00m\n\u001b[1;32m-> 5266\u001b[0m     \u001b[38;5;28;01mreturn\u001b[39;00m \u001b[38;5;28;43msuper\u001b[39;49m\u001b[43m(\u001b[49m\u001b[43m)\u001b[49m\u001b[38;5;241;43m.\u001b[39;49m\u001b[43mdrop\u001b[49m\u001b[43m(\u001b[49m\n\u001b[0;32m   5267\u001b[0m \u001b[43m        \u001b[49m\u001b[43mlabels\u001b[49m\u001b[38;5;241;43m=\u001b[39;49m\u001b[43mlabels\u001b[49m\u001b[43m,\u001b[49m\n\u001b[0;32m   5268\u001b[0m \u001b[43m        \u001b[49m\u001b[43maxis\u001b[49m\u001b[38;5;241;43m=\u001b[39;49m\u001b[43maxis\u001b[49m\u001b[43m,\u001b[49m\n\u001b[0;32m   5269\u001b[0m \u001b[43m        \u001b[49m\u001b[43mindex\u001b[49m\u001b[38;5;241;43m=\u001b[39;49m\u001b[43mindex\u001b[49m\u001b[43m,\u001b[49m\n\u001b[0;32m   5270\u001b[0m \u001b[43m        \u001b[49m\u001b[43mcolumns\u001b[49m\u001b[38;5;241;43m=\u001b[39;49m\u001b[43mcolumns\u001b[49m\u001b[43m,\u001b[49m\n\u001b[0;32m   5271\u001b[0m \u001b[43m        \u001b[49m\u001b[43mlevel\u001b[49m\u001b[38;5;241;43m=\u001b[39;49m\u001b[43mlevel\u001b[49m\u001b[43m,\u001b[49m\n\u001b[0;32m   5272\u001b[0m \u001b[43m        \u001b[49m\u001b[43minplace\u001b[49m\u001b[38;5;241;43m=\u001b[39;49m\u001b[43minplace\u001b[49m\u001b[43m,\u001b[49m\n\u001b[0;32m   5273\u001b[0m \u001b[43m        \u001b[49m\u001b[43merrors\u001b[49m\u001b[38;5;241;43m=\u001b[39;49m\u001b[43merrors\u001b[49m\u001b[43m,\u001b[49m\n\u001b[0;32m   5274\u001b[0m \u001b[43m    \u001b[49m\u001b[43m)\u001b[49m\n",
      "File \u001b[1;32mc:\\python 3.8\\lib\\site-packages\\pandas\\core\\generic.py:4549\u001b[0m, in \u001b[0;36mNDFrame.drop\u001b[1;34m(self, labels, axis, index, columns, level, inplace, errors)\u001b[0m\n\u001b[0;32m   4547\u001b[0m \u001b[38;5;28;01mfor\u001b[39;00m axis, labels \u001b[38;5;129;01min\u001b[39;00m axes\u001b[38;5;241m.\u001b[39mitems():\n\u001b[0;32m   4548\u001b[0m     \u001b[38;5;28;01mif\u001b[39;00m labels \u001b[38;5;129;01mis\u001b[39;00m \u001b[38;5;129;01mnot\u001b[39;00m \u001b[38;5;28;01mNone\u001b[39;00m:\n\u001b[1;32m-> 4549\u001b[0m         obj \u001b[38;5;241m=\u001b[39m \u001b[43mobj\u001b[49m\u001b[38;5;241;43m.\u001b[39;49m\u001b[43m_drop_axis\u001b[49m\u001b[43m(\u001b[49m\u001b[43mlabels\u001b[49m\u001b[43m,\u001b[49m\u001b[43m \u001b[49m\u001b[43maxis\u001b[49m\u001b[43m,\u001b[49m\u001b[43m \u001b[49m\u001b[43mlevel\u001b[49m\u001b[38;5;241;43m=\u001b[39;49m\u001b[43mlevel\u001b[49m\u001b[43m,\u001b[49m\u001b[43m \u001b[49m\u001b[43merrors\u001b[49m\u001b[38;5;241;43m=\u001b[39;49m\u001b[43merrors\u001b[49m\u001b[43m)\u001b[49m\n\u001b[0;32m   4551\u001b[0m \u001b[38;5;28;01mif\u001b[39;00m inplace:\n\u001b[0;32m   4552\u001b[0m     \u001b[38;5;28mself\u001b[39m\u001b[38;5;241m.\u001b[39m_update_inplace(obj)\n",
      "File \u001b[1;32mc:\\python 3.8\\lib\\site-packages\\pandas\\core\\generic.py:4591\u001b[0m, in \u001b[0;36mNDFrame._drop_axis\u001b[1;34m(self, labels, axis, level, errors, only_slice)\u001b[0m\n\u001b[0;32m   4589\u001b[0m         new_axis \u001b[38;5;241m=\u001b[39m axis\u001b[38;5;241m.\u001b[39mdrop(labels, level\u001b[38;5;241m=\u001b[39mlevel, errors\u001b[38;5;241m=\u001b[39merrors)\n\u001b[0;32m   4590\u001b[0m     \u001b[38;5;28;01melse\u001b[39;00m:\n\u001b[1;32m-> 4591\u001b[0m         new_axis \u001b[38;5;241m=\u001b[39m \u001b[43maxis\u001b[49m\u001b[38;5;241;43m.\u001b[39;49m\u001b[43mdrop\u001b[49m\u001b[43m(\u001b[49m\u001b[43mlabels\u001b[49m\u001b[43m,\u001b[49m\u001b[43m \u001b[49m\u001b[43merrors\u001b[49m\u001b[38;5;241;43m=\u001b[39;49m\u001b[43merrors\u001b[49m\u001b[43m)\u001b[49m\n\u001b[0;32m   4592\u001b[0m     indexer \u001b[38;5;241m=\u001b[39m axis\u001b[38;5;241m.\u001b[39mget_indexer(new_axis)\n\u001b[0;32m   4594\u001b[0m \u001b[38;5;66;03m# Case for non-unique axis\u001b[39;00m\n\u001b[0;32m   4595\u001b[0m \u001b[38;5;28;01melse\u001b[39;00m:\n",
      "File \u001b[1;32mc:\\python 3.8\\lib\\site-packages\\pandas\\core\\indexes\\base.py:6696\u001b[0m, in \u001b[0;36mIndex.drop\u001b[1;34m(self, labels, errors)\u001b[0m\n\u001b[0;32m   6694\u001b[0m \u001b[38;5;28;01mif\u001b[39;00m mask\u001b[38;5;241m.\u001b[39many():\n\u001b[0;32m   6695\u001b[0m     \u001b[38;5;28;01mif\u001b[39;00m errors \u001b[38;5;241m!=\u001b[39m \u001b[38;5;124m\"\u001b[39m\u001b[38;5;124mignore\u001b[39m\u001b[38;5;124m\"\u001b[39m:\n\u001b[1;32m-> 6696\u001b[0m         \u001b[38;5;28;01mraise\u001b[39;00m \u001b[38;5;167;01mKeyError\u001b[39;00m(\u001b[38;5;124mf\u001b[39m\u001b[38;5;124m\"\u001b[39m\u001b[38;5;132;01m{\u001b[39;00m\u001b[38;5;28mlist\u001b[39m(labels[mask])\u001b[38;5;132;01m}\u001b[39;00m\u001b[38;5;124m not found in axis\u001b[39m\u001b[38;5;124m\"\u001b[39m)\n\u001b[0;32m   6697\u001b[0m     indexer \u001b[38;5;241m=\u001b[39m indexer[\u001b[38;5;241m~\u001b[39mmask]\n\u001b[0;32m   6698\u001b[0m \u001b[38;5;28;01mreturn\u001b[39;00m \u001b[38;5;28mself\u001b[39m\u001b[38;5;241m.\u001b[39mdelete(indexer)\n",
      "\u001b[1;31mKeyError\u001b[0m: \"['Unnamed: 0'] not found in axis\""
     ]
    }
   ],
   "source": [
    "test = test.drop(\"Unnamed: 0\", axis=True)\n",
    "test_y = test_y.drop(\"Unnamed: 0\", axis=True)\n"
   ]
  },
  {
   "cell_type": "code",
   "execution_count": null,
   "id": "016b9353",
   "metadata": {},
   "outputs": [],
   "source": [
    "test.head()"
   ]
  },
  {
   "cell_type": "code",
   "execution_count": 21,
   "id": "84f86329",
   "metadata": {},
   "outputs": [],
   "source": [
    "test_5 =test.head()"
   ]
  },
  {
   "cell_type": "code",
   "execution_count": 22,
   "id": "87da27cd",
   "metadata": {},
   "outputs": [
    {
     "name": "stderr",
     "output_type": "stream",
     "text": [
      "c:\\python 3.8\\lib\\site-packages\\sklearn\\base.py:432: UserWarning: X has feature names, but RandomForestClassifier was fitted without feature names\n",
      "  warnings.warn(\n"
     ]
    },
    {
     "data": {
      "text/plain": [
       "array([1, 1, 1, 1, 1], dtype=int64)"
      ]
     },
     "execution_count": 22,
     "metadata": {},
     "output_type": "execute_result"
    }
   ],
   "source": [
    "rf_model.predict(test_5)"
   ]
  },
  {
   "cell_type": "code",
   "execution_count": 23,
   "id": "5db032f3",
   "metadata": {},
   "outputs": [],
   "source": [
    "# test[\"prediction\"] = rf_model.predict(test)"
   ]
  },
  {
   "cell_type": "code",
   "execution_count": 24,
   "id": "2a54b494",
   "metadata": {},
   "outputs": [
    {
     "data": {
      "text/html": [
       "<div>\n",
       "<style scoped>\n",
       "    .dataframe tbody tr th:only-of-type {\n",
       "        vertical-align: middle;\n",
       "    }\n",
       "\n",
       "    .dataframe tbody tr th {\n",
       "        vertical-align: top;\n",
       "    }\n",
       "\n",
       "    .dataframe thead th {\n",
       "        text-align: right;\n",
       "    }\n",
       "</style>\n",
       "<table border=\"1\" class=\"dataframe\">\n",
       "  <thead>\n",
       "    <tr style=\"text-align: right;\">\n",
       "      <th></th>\n",
       "      <th>CreditScore</th>\n",
       "      <th>Geography</th>\n",
       "      <th>Gender</th>\n",
       "      <th>Age</th>\n",
       "      <th>Tenure</th>\n",
       "      <th>Balance</th>\n",
       "      <th>NumOfProducts</th>\n",
       "      <th>HasCrCard</th>\n",
       "      <th>IsActiveMember</th>\n",
       "      <th>EstimatedSalary</th>\n",
       "    </tr>\n",
       "  </thead>\n",
       "  <tbody>\n",
       "    <tr>\n",
       "      <th>0</th>\n",
       "      <td>535</td>\n",
       "      <td>0</td>\n",
       "      <td>0</td>\n",
       "      <td>29</td>\n",
       "      <td>5</td>\n",
       "      <td>0.00</td>\n",
       "      <td>2</td>\n",
       "      <td>0</td>\n",
       "      <td>1</td>\n",
       "      <td>52709.55</td>\n",
       "    </tr>\n",
       "    <tr>\n",
       "      <th>1</th>\n",
       "      <td>606</td>\n",
       "      <td>2</td>\n",
       "      <td>0</td>\n",
       "      <td>41</td>\n",
       "      <td>4</td>\n",
       "      <td>132670.53</td>\n",
       "      <td>1</td>\n",
       "      <td>1</td>\n",
       "      <td>0</td>\n",
       "      <td>156476.36</td>\n",
       "    </tr>\n",
       "    <tr>\n",
       "      <th>2</th>\n",
       "      <td>680</td>\n",
       "      <td>1</td>\n",
       "      <td>0</td>\n",
       "      <td>31</td>\n",
       "      <td>9</td>\n",
       "      <td>119825.75</td>\n",
       "      <td>2</td>\n",
       "      <td>1</td>\n",
       "      <td>1</td>\n",
       "      <td>101139.30</td>\n",
       "    </tr>\n",
       "    <tr>\n",
       "      <th>3</th>\n",
       "      <td>692</td>\n",
       "      <td>0</td>\n",
       "      <td>0</td>\n",
       "      <td>36</td>\n",
       "      <td>4</td>\n",
       "      <td>0.00</td>\n",
       "      <td>1</td>\n",
       "      <td>1</td>\n",
       "      <td>0</td>\n",
       "      <td>185580.89</td>\n",
       "    </tr>\n",
       "    <tr>\n",
       "      <th>4</th>\n",
       "      <td>686</td>\n",
       "      <td>2</td>\n",
       "      <td>0</td>\n",
       "      <td>39</td>\n",
       "      <td>4</td>\n",
       "      <td>157731.60</td>\n",
       "      <td>2</td>\n",
       "      <td>1</td>\n",
       "      <td>0</td>\n",
       "      <td>162820.60</td>\n",
       "    </tr>\n",
       "  </tbody>\n",
       "</table>\n",
       "</div>"
      ],
      "text/plain": [
       "   CreditScore  Geography  Gender  Age  Tenure    Balance  NumOfProducts   \n",
       "0          535          0       0   29       5       0.00              2  \\\n",
       "1          606          2       0   41       4  132670.53              1   \n",
       "2          680          1       0   31       9  119825.75              2   \n",
       "3          692          0       0   36       4       0.00              1   \n",
       "4          686          2       0   39       4  157731.60              2   \n",
       "\n",
       "   HasCrCard  IsActiveMember  EstimatedSalary  \n",
       "0          0               1         52709.55  \n",
       "1          1               0        156476.36  \n",
       "2          1               1        101139.30  \n",
       "3          1               0        185580.89  \n",
       "4          1               0        162820.60  "
      ]
     },
     "execution_count": 24,
     "metadata": {},
     "output_type": "execute_result"
    }
   ],
   "source": [
    "test_5"
   ]
  },
  {
   "cell_type": "code",
   "execution_count": 26,
   "id": "20ac2807",
   "metadata": {},
   "outputs": [],
   "source": [
    "# test[\"prediction\"].unique()"
   ]
  },
  {
   "cell_type": "code",
   "execution_count": 8,
   "id": "7be5fb58",
   "metadata": {},
   "outputs": [
    {
     "name": "stderr",
     "output_type": "stream",
     "text": [
      "c:\\python 3.8\\lib\\site-packages\\sklearn\\base.py:432: UserWarning: X has feature names, but RandomForestClassifier was fitted without feature names\n",
      "  warnings.warn(\n"
     ]
    }
   ],
   "source": [
    "pred=rf_model.predict(test)"
   ]
  },
  {
   "cell_type": "code",
   "execution_count": 9,
   "id": "0fcfa79a",
   "metadata": {},
   "outputs": [],
   "source": [
    "test1 = test.copy(deep=True)"
   ]
  },
  {
   "cell_type": "code",
   "execution_count": 10,
   "id": "2c86ffa5",
   "metadata": {},
   "outputs": [],
   "source": [
    "test1[\"pred\"] = pred"
   ]
  },
  {
   "cell_type": "code",
   "execution_count": 30,
   "id": "91d91be9",
   "metadata": {},
   "outputs": [
    {
     "name": "stdout",
     "output_type": "stream",
     "text": [
      "[[   0 2426]\n",
      " [   0 2352]]\n"
     ]
    }
   ],
   "source": [
    "cm = confusion_matrix(test_y, pred)\n",
    "print(cm)\n"
   ]
  },
  {
   "cell_type": "code",
   "execution_count": 46,
   "id": "20a93bfa",
   "metadata": {},
   "outputs": [],
   "source": [
    "import random\n",
    "recommendations_list = [\"r1\", \"r2\", \"r3\", \"r4\", \"r5\", \"r6\", \"r7\", \"r8\", \"r9\", \"r10\"]\n",
    "def recommendations_fun(recommendations):\n",
    "    my_list = recommendations\n",
    "    recommendations_list = random.sample(my_list, 2)\n",
    "    recod_1 = recommendations_list[0]\n",
    "    recod_2 = recommendations_list[1]\n",
    "#     print(recod_1)\n",
    "#     print(recod_2)\n",
    "    return recod_1 , recod_2\n",
    "\n"
   ]
  },
  {
   "cell_type": "code",
   "execution_count": 47,
   "id": "aa244814",
   "metadata": {},
   "outputs": [],
   "source": [
    "r1_list = []\n",
    "r2_list = []\n",
    "\n",
    "for i in range(len(test)):\n",
    "    r1,r2 =recommendations_fun(recommendations_list)\n",
    "    r1_list.append(r1)\n",
    "    r2_list.append(r2)\n",
    "    "
   ]
  },
  {
   "cell_type": "code",
   "execution_count": 48,
   "id": "5c703e71",
   "metadata": {},
   "outputs": [],
   "source": [
    "test1[\"r1\"] = r1_list\n",
    "test1[\"r2\"] = r2_list\n"
   ]
  },
  {
   "cell_type": "code",
   "execution_count": 49,
   "id": "d79476e4",
   "metadata": {},
   "outputs": [
    {
     "data": {
      "text/html": [
       "<div>\n",
       "<style scoped>\n",
       "    .dataframe tbody tr th:only-of-type {\n",
       "        vertical-align: middle;\n",
       "    }\n",
       "\n",
       "    .dataframe tbody tr th {\n",
       "        vertical-align: top;\n",
       "    }\n",
       "\n",
       "    .dataframe thead th {\n",
       "        text-align: right;\n",
       "    }\n",
       "</style>\n",
       "<table border=\"1\" class=\"dataframe\">\n",
       "  <thead>\n",
       "    <tr style=\"text-align: right;\">\n",
       "      <th></th>\n",
       "      <th>CreditScore</th>\n",
       "      <th>Geography</th>\n",
       "      <th>Gender</th>\n",
       "      <th>Age</th>\n",
       "      <th>Tenure</th>\n",
       "      <th>Balance</th>\n",
       "      <th>NumOfProducts</th>\n",
       "      <th>HasCrCard</th>\n",
       "      <th>IsActiveMember</th>\n",
       "      <th>EstimatedSalary</th>\n",
       "      <th>pred</th>\n",
       "      <th>r1</th>\n",
       "      <th>r2</th>\n",
       "    </tr>\n",
       "  </thead>\n",
       "  <tbody>\n",
       "    <tr>\n",
       "      <th>0</th>\n",
       "      <td>535</td>\n",
       "      <td>0</td>\n",
       "      <td>0</td>\n",
       "      <td>29</td>\n",
       "      <td>5</td>\n",
       "      <td>0.00</td>\n",
       "      <td>2</td>\n",
       "      <td>0</td>\n",
       "      <td>1</td>\n",
       "      <td>52709.55</td>\n",
       "      <td>1</td>\n",
       "      <td>r4</td>\n",
       "      <td>r1</td>\n",
       "    </tr>\n",
       "    <tr>\n",
       "      <th>1</th>\n",
       "      <td>606</td>\n",
       "      <td>2</td>\n",
       "      <td>0</td>\n",
       "      <td>41</td>\n",
       "      <td>4</td>\n",
       "      <td>132670.53</td>\n",
       "      <td>1</td>\n",
       "      <td>1</td>\n",
       "      <td>0</td>\n",
       "      <td>156476.36</td>\n",
       "      <td>1</td>\n",
       "      <td>r7</td>\n",
       "      <td>r8</td>\n",
       "    </tr>\n",
       "    <tr>\n",
       "      <th>2</th>\n",
       "      <td>680</td>\n",
       "      <td>1</td>\n",
       "      <td>0</td>\n",
       "      <td>31</td>\n",
       "      <td>9</td>\n",
       "      <td>119825.75</td>\n",
       "      <td>2</td>\n",
       "      <td>1</td>\n",
       "      <td>1</td>\n",
       "      <td>101139.30</td>\n",
       "      <td>1</td>\n",
       "      <td>r8</td>\n",
       "      <td>r6</td>\n",
       "    </tr>\n",
       "    <tr>\n",
       "      <th>3</th>\n",
       "      <td>692</td>\n",
       "      <td>0</td>\n",
       "      <td>0</td>\n",
       "      <td>36</td>\n",
       "      <td>4</td>\n",
       "      <td>0.00</td>\n",
       "      <td>1</td>\n",
       "      <td>1</td>\n",
       "      <td>0</td>\n",
       "      <td>185580.89</td>\n",
       "      <td>1</td>\n",
       "      <td>r7</td>\n",
       "      <td>r2</td>\n",
       "    </tr>\n",
       "    <tr>\n",
       "      <th>4</th>\n",
       "      <td>686</td>\n",
       "      <td>2</td>\n",
       "      <td>0</td>\n",
       "      <td>39</td>\n",
       "      <td>4</td>\n",
       "      <td>157731.60</td>\n",
       "      <td>2</td>\n",
       "      <td>1</td>\n",
       "      <td>0</td>\n",
       "      <td>162820.60</td>\n",
       "      <td>1</td>\n",
       "      <td>r7</td>\n",
       "      <td>r5</td>\n",
       "    </tr>\n",
       "    <tr>\n",
       "      <th>...</th>\n",
       "      <td>...</td>\n",
       "      <td>...</td>\n",
       "      <td>...</td>\n",
       "      <td>...</td>\n",
       "      <td>...</td>\n",
       "      <td>...</td>\n",
       "      <td>...</td>\n",
       "      <td>...</td>\n",
       "      <td>...</td>\n",
       "      <td>...</td>\n",
       "      <td>...</td>\n",
       "      <td>...</td>\n",
       "      <td>...</td>\n",
       "    </tr>\n",
       "    <tr>\n",
       "      <th>4773</th>\n",
       "      <td>497</td>\n",
       "      <td>0</td>\n",
       "      <td>0</td>\n",
       "      <td>29</td>\n",
       "      <td>4</td>\n",
       "      <td>85646.81</td>\n",
       "      <td>1</td>\n",
       "      <td>0</td>\n",
       "      <td>0</td>\n",
       "      <td>63233.02</td>\n",
       "      <td>1</td>\n",
       "      <td>r5</td>\n",
       "      <td>r3</td>\n",
       "    </tr>\n",
       "    <tr>\n",
       "      <th>4774</th>\n",
       "      <td>648</td>\n",
       "      <td>1</td>\n",
       "      <td>1</td>\n",
       "      <td>32</td>\n",
       "      <td>8</td>\n",
       "      <td>0.00</td>\n",
       "      <td>1</td>\n",
       "      <td>1</td>\n",
       "      <td>0</td>\n",
       "      <td>133653.38</td>\n",
       "      <td>1</td>\n",
       "      <td>r8</td>\n",
       "      <td>r5</td>\n",
       "    </tr>\n",
       "    <tr>\n",
       "      <th>4775</th>\n",
       "      <td>680</td>\n",
       "      <td>0</td>\n",
       "      <td>1</td>\n",
       "      <td>37</td>\n",
       "      <td>4</td>\n",
       "      <td>0.00</td>\n",
       "      <td>2</td>\n",
       "      <td>1</td>\n",
       "      <td>0</td>\n",
       "      <td>61240.87</td>\n",
       "      <td>1</td>\n",
       "      <td>r6</td>\n",
       "      <td>r9</td>\n",
       "    </tr>\n",
       "    <tr>\n",
       "      <th>4776</th>\n",
       "      <td>588</td>\n",
       "      <td>2</td>\n",
       "      <td>0</td>\n",
       "      <td>30</td>\n",
       "      <td>0</td>\n",
       "      <td>110148.49</td>\n",
       "      <td>1</td>\n",
       "      <td>1</td>\n",
       "      <td>0</td>\n",
       "      <td>5790.90</td>\n",
       "      <td>1</td>\n",
       "      <td>r3</td>\n",
       "      <td>r5</td>\n",
       "    </tr>\n",
       "    <tr>\n",
       "      <th>4777</th>\n",
       "      <td>648</td>\n",
       "      <td>2</td>\n",
       "      <td>0</td>\n",
       "      <td>43</td>\n",
       "      <td>1</td>\n",
       "      <td>107963.38</td>\n",
       "      <td>1</td>\n",
       "      <td>0</td>\n",
       "      <td>0</td>\n",
       "      <td>186438.86</td>\n",
       "      <td>1</td>\n",
       "      <td>r10</td>\n",
       "      <td>r1</td>\n",
       "    </tr>\n",
       "  </tbody>\n",
       "</table>\n",
       "<p>4778 rows × 13 columns</p>\n",
       "</div>"
      ],
      "text/plain": [
       "      CreditScore  Geography  Gender  Age  Tenure    Balance  NumOfProducts   \n",
       "0             535          0       0   29       5       0.00              2  \\\n",
       "1             606          2       0   41       4  132670.53              1   \n",
       "2             680          1       0   31       9  119825.75              2   \n",
       "3             692          0       0   36       4       0.00              1   \n",
       "4             686          2       0   39       4  157731.60              2   \n",
       "...           ...        ...     ...  ...     ...        ...            ...   \n",
       "4773          497          0       0   29       4   85646.81              1   \n",
       "4774          648          1       1   32       8       0.00              1   \n",
       "4775          680          0       1   37       4       0.00              2   \n",
       "4776          588          2       0   30       0  110148.49              1   \n",
       "4777          648          2       0   43       1  107963.38              1   \n",
       "\n",
       "      HasCrCard  IsActiveMember  EstimatedSalary  pred   r1  r2  \n",
       "0             0               1         52709.55     1   r4  r1  \n",
       "1             1               0        156476.36     1   r7  r8  \n",
       "2             1               1        101139.30     1   r8  r6  \n",
       "3             1               0        185580.89     1   r7  r2  \n",
       "4             1               0        162820.60     1   r7  r5  \n",
       "...         ...             ...              ...   ...  ...  ..  \n",
       "4773          0               0         63233.02     1   r5  r3  \n",
       "4774          1               0        133653.38     1   r8  r5  \n",
       "4775          1               0         61240.87     1   r6  r9  \n",
       "4776          1               0          5790.90     1   r3  r5  \n",
       "4777          0               0        186438.86     1  r10  r1  \n",
       "\n",
       "[4778 rows x 13 columns]"
      ]
     },
     "execution_count": 49,
     "metadata": {},
     "output_type": "execute_result"
    }
   ],
   "source": [
    "test1"
   ]
  },
  {
   "cell_type": "code",
   "execution_count": 53,
   "id": "7318048c",
   "metadata": {},
   "outputs": [],
   "source": [
    "def file_upload_pred(file_name,model_name):\n",
    "    model = model_name\n",
    "    file = file_name\n",
    "    df = pd.read_csv(file)\n",
    "    print(df.keys())\n",
    "    df = df.drop(\"Unnamed: 0\", axis=True)\n",
    "    prediction = model.predict(df)\n",
    "    print(prediction)\n",
    "    r1_list = []\n",
    "    r2_list = []\n",
    "\n",
    "    for i in range(len(df)):\n",
    "        r1,r2 =recommendations_fun(recommendations_list)\n",
    "        r1_list.append(r1)\n",
    "        r2_list.append(r2)\n",
    "     \n",
    "    df_new = df.copy(deep=True)\n",
    "    df_new[\"prediction\"] = prediction\n",
    "    df_new[\"recommendations_1\"] = r1_list\n",
    "    df_new[\"recommendations_2\"] = r2_list\n",
    "    df_new['Geography'] = df_new['Geography'].replace([0, 1, 2],['France', 'Spain', 'Germany'])\n",
    "    df_new['Gender'] = df_new['Gender'].replace([0, 1],['Female', 'Male'])\n",
    "    df_new['prediction'] = df_new['prediction'].replace([0, 1],['Stay', 'Exit'])\n",
    "\n",
    "    df_new.to_csv(\"predicted_file.csv\")\n",
    "    \n",
    "    return \"predicted_file.csv\""
   ]
  },
  {
   "cell_type": "code",
   "execution_count": 54,
   "id": "f26fb27d",
   "metadata": {},
   "outputs": [],
   "source": [
    "file= \"../Resources/X_test.csv\""
   ]
  },
  {
   "cell_type": "code",
   "execution_count": 55,
   "id": "4bc450e0",
   "metadata": {},
   "outputs": [
    {
     "name": "stdout",
     "output_type": "stream",
     "text": [
      "Index(['Unnamed: 0', 'CreditScore', 'Geography', 'Gender', 'Age', 'Tenure',\n",
      "       'Balance', 'NumOfProducts', 'HasCrCard', 'IsActiveMember',\n",
      "       'EstimatedSalary'],\n",
      "      dtype='object')\n",
      "[1 1 1 ... 1 1 1]\n"
     ]
    },
    {
     "name": "stderr",
     "output_type": "stream",
     "text": [
      "c:\\python 3.8\\lib\\site-packages\\sklearn\\base.py:432: UserWarning: X has feature names, but RandomForestClassifier was fitted without feature names\n",
      "  warnings.warn(\n"
     ]
    },
    {
     "data": {
      "text/plain": [
       "'predicted_file.csv'"
      ]
     },
     "execution_count": 55,
     "metadata": {},
     "output_type": "execute_result"
    }
   ],
   "source": [
    "file_upload_pred(file,rf_model)"
   ]
  },
  {
   "cell_type": "code",
   "execution_count": null,
   "id": "28e7d38a",
   "metadata": {},
   "outputs": [],
   "source": []
  },
  {
   "cell_type": "code",
   "execution_count": null,
   "id": "9873db5c",
   "metadata": {},
   "outputs": [],
   "source": []
  }
 ],
 "metadata": {
  "kernelspec": {
   "display_name": "Python 3 (ipykernel)",
   "language": "python",
   "name": "python3"
  },
  "language_info": {
   "codemirror_mode": {
    "name": "ipython",
    "version": 3
   },
   "file_extension": ".py",
   "mimetype": "text/x-python",
   "name": "python",
   "nbconvert_exporter": "python",
   "pygments_lexer": "ipython3",
   "version": "3.8.10"
  }
 },
 "nbformat": 4,
 "nbformat_minor": 5
}
