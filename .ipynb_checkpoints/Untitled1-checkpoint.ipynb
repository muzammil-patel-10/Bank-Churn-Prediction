{
 "cells": [
  {
   "cell_type": "code",
   "execution_count": 1,
   "id": "035d7a3d",
   "metadata": {},
   "outputs": [
    {
     "name": "stdout",
     "output_type": "stream",
     "text": [
      "Collecting html2image\n",
      "  Downloading html2image-2.0.3-py3-none-any.whl (18 kB)\n",
      "Installing collected packages: html2image\n",
      "Successfully installed html2image-2.0.3\n"
     ]
    },
    {
     "name": "stderr",
     "output_type": "stream",
     "text": [
      "WARNING: You are using pip version 21.1.1; however, version 23.1.2 is available.\n",
      "You should consider upgrading via the 'c:\\python 3.8\\python.exe -m pip install --upgrade pip' command.\n"
     ]
    }
   ],
   "source": [
    "! pip install html2image"
   ]
  },
  {
   "cell_type": "code",
   "execution_count": 12,
   "id": "a9f97528",
   "metadata": {},
   "outputs": [
    {
     "ename": "FileNotFoundError",
     "evalue": "star.svg",
     "output_type": "error",
     "traceback": [
      "\u001b[1;31m---------------------------------------------------------------------------\u001b[0m",
      "\u001b[1;31mFileNotFoundError\u001b[0m                         Traceback (most recent call last)",
      "Cell \u001b[1;32mIn[12], line 8\u001b[0m\n\u001b[0;32m      5\u001b[0m css \u001b[38;5;241m=\u001b[39m \u001b[38;5;124m'\u001b[39m\u001b[38;5;124mbody \u001b[39m\u001b[38;5;124m{\u001b[39m\u001b[38;5;124mbackground: white;}\u001b[39m\u001b[38;5;124m'\u001b[39m\n\u001b[0;32m      7\u001b[0m \u001b[38;5;66;03m# screenshot an HTML string (css is optional)\u001b[39;00m\n\u001b[1;32m----> 8\u001b[0m \u001b[43mhti\u001b[49m\u001b[38;5;241;43m.\u001b[39;49m\u001b[43mscreenshot\u001b[49m\u001b[43m(\u001b[49m\u001b[43mhtml_file\u001b[49m\u001b[43m \u001b[49m\u001b[38;5;241;43m=\u001b[39;49m\u001b[43m \u001b[49m\u001b[38;5;124;43m\"\u001b[39;49m\u001b[38;5;124;43mlime.html\u001b[39;49m\u001b[38;5;124;43m\"\u001b[39;49m\u001b[43m,\u001b[49m\u001b[43mother_file\u001b[49m\u001b[38;5;241;43m=\u001b[39;49m\u001b[38;5;124;43m'\u001b[39;49m\u001b[38;5;124;43mstar.svg\u001b[39;49m\u001b[38;5;124;43m'\u001b[39;49m\u001b[43m)\u001b[49m\n",
      "File \u001b[1;32mc:\\python 3.8\\lib\\site-packages\\html2image\\html2image.py:501\u001b[0m, in \u001b[0;36mHtml2Image.screenshot\u001b[1;34m(self, html_str, html_file, css_str, css_file, other_file, url, save_as, size)\u001b[0m\n\u001b[0;32m    495\u001b[0m         \u001b[38;5;28mself\u001b[39m\u001b[38;5;241m.\u001b[39mscreenshot_loaded_file(\n\u001b[0;32m    496\u001b[0m             file\u001b[38;5;241m=\u001b[39mos\u001b[38;5;241m.\u001b[39mpath\u001b[38;5;241m.\u001b[39mbasename(screenshot_target),\n\u001b[0;32m    497\u001b[0m             output_file\u001b[38;5;241m=\u001b[39mname,\n\u001b[0;32m    498\u001b[0m             size\u001b[38;5;241m=\u001b[39mcurrent_size,\n\u001b[0;32m    499\u001b[0m         )\n\u001b[0;32m    500\u001b[0m     \u001b[38;5;28;01melse\u001b[39;00m:\n\u001b[1;32m--> 501\u001b[0m         \u001b[38;5;28;01mraise\u001b[39;00m \u001b[38;5;167;01mFileNotFoundError\u001b[39;00m(screenshot_target)\n\u001b[0;32m    503\u001b[0m     screenshot_paths\u001b[38;5;241m.\u001b[39mappend(os\u001b[38;5;241m.\u001b[39mpath\u001b[38;5;241m.\u001b[39mjoin(\u001b[38;5;28mself\u001b[39m\u001b[38;5;241m.\u001b[39moutput_path, name))\n\u001b[0;32m    505\u001b[0m \u001b[38;5;28;01mfor\u001b[39;00m target_url \u001b[38;5;129;01min\u001b[39;00m url:\n",
      "\u001b[1;31mFileNotFoundError\u001b[0m: star.svg"
     ]
    }
   ],
   "source": [
    "from html2image import Html2Image\n",
    "hti = Html2Image()\n",
    "\n",
    "# html = '<h1> A title </h1> Some text.'\n",
    "css = 'body {background: white;}'\n",
    "\n",
    "# screenshot an HTML string (css is optional)\n",
    "hti.screenshot(html_file = \"lime.html\",other_file='star.svg')"
   ]
  },
  {
   "cell_type": "code",
   "execution_count": null,
   "id": "3019df66",
   "metadata": {},
   "outputs": [],
   "source": [
    "plt.savefig('books_read.png')"
   ]
  },
  {
   "cell_type": "code",
   "execution_count": 24,
   "id": "47bbc953",
   "metadata": {},
   "outputs": [
    {
     "data": {
      "text/html": [
       "<div>\n",
       "<style scoped>\n",
       "    .dataframe tbody tr th:only-of-type {\n",
       "        vertical-align: middle;\n",
       "    }\n",
       "\n",
       "    .dataframe tbody tr th {\n",
       "        vertical-align: top;\n",
       "    }\n",
       "\n",
       "    .dataframe thead th {\n",
       "        text-align: right;\n",
       "    }\n",
       "</style>\n",
       "<table border=\"1\" class=\"dataframe\">\n",
       "  <thead>\n",
       "    <tr style=\"text-align: right;\">\n",
       "      <th></th>\n",
       "      <th>class</th>\n",
       "      <th>Runs</th>\n",
       "    </tr>\n",
       "  </thead>\n",
       "  <tbody>\n",
       "    <tr>\n",
       "      <th>0</th>\n",
       "      <td>0</td>\n",
       "      <td>10</td>\n",
       "    </tr>\n",
       "    <tr>\n",
       "      <th>1</th>\n",
       "      <td>1</td>\n",
       "      <td>90</td>\n",
       "    </tr>\n",
       "  </tbody>\n",
       "</table>\n",
       "</div>"
      ],
      "text/plain": [
       "  class  Runs\n",
       "0     0    10\n",
       "1     1    90"
      ]
     },
     "metadata": {},
     "output_type": "display_data"
    }
   ],
   "source": [
    "# import modules\n",
    "import pandas as pd\n",
    "import matplotlib.pyplot as plt\n",
    "\n",
    "# assign data\n",
    "\n",
    "data = pd.DataFrame({'class': ['0', '1'],\n",
    "\t\t\t\t\t'Runs': [10, 90]\n",
    "\t\t\t\t\t})\n",
    "\n",
    "# display data\n",
    "display(data)\n"
   ]
  },
  {
   "cell_type": "code",
   "execution_count": 15,
   "id": "f410c016",
   "metadata": {},
   "outputs": [
    {
     "name": "stdout",
     "output_type": "stream",
     "text": [
      "Total matches played by MS Dhoni: 742\n",
      "Total runs scored by MS Dhoni: 21898\n"
     ]
    }
   ],
   "source": [
    "# get total matches of\n",
    "# a particular player\n",
    "total_matches = data.Matches.sum()\n",
    "print('Total matches played by MS Dhoni: %s' % total_matches)\n",
    "\n",
    "# get total runs of\n",
    "# a particular player\n",
    "total_runs = data.Runs.sum()\n",
    "print('Total runs scored by MS Dhoni: %s' % total_runs)\n"
   ]
  },
  {
   "cell_type": "code",
   "execution_count": 16,
   "id": "7fb6fd3f",
   "metadata": {},
   "outputs": [
    {
     "name": "stdout",
     "output_type": "stream",
     "text": [
      "[22.27, 49.2, 7.38, 21.15]\n"
     ]
    },
    {
     "data": {
      "text/html": [
       "<div>\n",
       "<style scoped>\n",
       "    .dataframe tbody tr th:only-of-type {\n",
       "        vertical-align: middle;\n",
       "    }\n",
       "\n",
       "    .dataframe tbody tr th {\n",
       "        vertical-align: top;\n",
       "    }\n",
       "\n",
       "    .dataframe thead th {\n",
       "        text-align: right;\n",
       "    }\n",
       "</style>\n",
       "<table border=\"1\" class=\"dataframe\">\n",
       "  <thead>\n",
       "    <tr style=\"text-align: right;\">\n",
       "      <th></th>\n",
       "      <th>Format</th>\n",
       "      <th>Matches</th>\n",
       "      <th>Runs</th>\n",
       "      <th>Percentage</th>\n",
       "    </tr>\n",
       "  </thead>\n",
       "  <tbody>\n",
       "    <tr>\n",
       "      <th>0</th>\n",
       "      <td>Test</td>\n",
       "      <td>90</td>\n",
       "      <td>4876</td>\n",
       "      <td>22.27</td>\n",
       "    </tr>\n",
       "    <tr>\n",
       "      <th>1</th>\n",
       "      <td>ODI</td>\n",
       "      <td>350</td>\n",
       "      <td>10773</td>\n",
       "      <td>49.20</td>\n",
       "    </tr>\n",
       "    <tr>\n",
       "      <th>2</th>\n",
       "      <td>T20I</td>\n",
       "      <td>98</td>\n",
       "      <td>1617</td>\n",
       "      <td>7.38</td>\n",
       "    </tr>\n",
       "    <tr>\n",
       "      <th>3</th>\n",
       "      <td>IPL</td>\n",
       "      <td>204</td>\n",
       "      <td>4632</td>\n",
       "      <td>21.15</td>\n",
       "    </tr>\n",
       "  </tbody>\n",
       "</table>\n",
       "</div>"
      ],
      "text/plain": [
       "  Format  Matches   Runs  Percentage\n",
       "0   Test       90   4876       22.27\n",
       "1    ODI      350  10773       49.20\n",
       "2   T20I       98   1617        7.38\n",
       "3    IPL      204   4632       21.15"
      ]
     },
     "metadata": {},
     "output_type": "display_data"
    }
   ],
   "source": [
    "# compute percentage of each format\n",
    "percentage = []\n",
    "plt.figure(figsize=(8,10))\n",
    "for i in range(data.shape[0]):\n",
    "\tpct = (data.Runs[i] / total_runs) * 100\n",
    "\tpercentage.append(round(pct, 2))\n",
    "\n",
    "# display percentage\n",
    "print(percentage)\n",
    "\n",
    "# display data\n",
    "data['Percentage'] = percentage\n",
    "display(data)\n"
   ]
  },
  {
   "cell_type": "code",
   "execution_count": 38,
   "id": "1f0eeec6",
   "metadata": {},
   "outputs": [
    {
     "data": {
      "image/png": "[encoded data removed]",
      "text/plain": [
       "<Figure size 1200x800 with 1 Axes>"
      ]
     },
     "metadata": {},
     "output_type": "display_data"
    }
   ],
   "source": [
    "# depict illustration\n",
    "plt.figure(figsize=(12, 8))\n",
    "colors_list = ['Red', 'Green']\n",
    "graph = plt.bar(data['class'], data.prob, color=colors_list)\n",
    "plt.title('Prediction probabilities')\n",
    "\n",
    "i = 0\n",
    "for p in graph:\n",
    "\twidth = p.get_width()\n",
    "\theight = p.get_height()\n",
    "\tx, y = p.get_xy()\n",
    "\t\n",
    "\tplt.text(x+width/2,\n",
    "\t\t\ty+height*1.01,\n",
    "\t\t\tstr(data.Percentage[i])+'%',\n",
    "\t\t\tha='center',\n",
    "\t\t\tweight='bold')\n",
    "\ti += 1\n",
    "plt.show()\n"
   ]
  },
  {
   "cell_type": "code",
   "execution_count": null,
   "id": "2d281a66",
   "metadata": {},
   "outputs": [],
   "source": []
  },
  {
   "cell_type": "code",
   "execution_count": 19,
   "id": "e668787b",
   "metadata": {},
   "outputs": [
    {
     "data": {
      "text/plain": [
       "25.0"
      ]
     },
     "execution_count": 19,
     "metadata": {},
     "output_type": "execute_result"
    }
   ],
   "source": [
    "0.25*100\n",
    "\n"
   ]
  },
  {
   "cell_type": "code",
   "execution_count": 33,
   "id": "055e7353",
   "metadata": {},
   "outputs": [],
   "source": [
    "zero = 0.55\n",
    "one = 0.64\n"
   ]
  },
  {
   "cell_type": "code",
   "execution_count": 34,
   "id": "a6423a69",
   "metadata": {},
   "outputs": [
    {
     "data": {
      "image/png": "[encoded data removed]",
      "text/plain": [
       "<Figure size 640x480 with 1 Axes>"
      ]
     },
     "metadata": {},
     "output_type": "display_data"
    }
   ],
   "source": [
    "data = pd.DataFrame({'class': ['0', '1'],\n",
    "            'prob': [zero*100, one*100],\n",
    "            \"Percentage\":[zero, one]\n",
    "            })\n",
    "\n",
    "colors_list = ['Red', 'Green']\n",
    "graph = plt.bar(data['class'], data.prob, color=colors_list)\n",
    "plt.title('Prediction probabilities')\n",
    "\n",
    "\n",
    "i = 0\n",
    "for p in graph:\n",
    "    width = p.get_width()\n",
    "    height = p.get_height()\n",
    "    x, y = p.get_xy()\n",
    "    \n",
    "    plt.text(x+width/2,\n",
    "            y+height*1.01,\n",
    "            str(data.Percentage[i])+'%',\n",
    "            ha='center',\n",
    "            weight='bold')\n",
    "    i += 1"
   ]
  },
  {
   "cell_type": "code",
   "execution_count": null,
   "id": "d6319fcf",
   "metadata": {},
   "outputs": [],
   "source": []
  }
 ],
 "metadata": {
  "kernelspec": {
   "display_name": "Python 3 (ipykernel)",
   "language": "python",
   "name": "python3"
  },
  "language_info": {
   "codemirror_mode": {
    "name": "ipython",
    "version": 3
   },
   "file_extension": ".py",
   "mimetype": "text/x-python",
   "name": "python",
   "nbconvert_exporter": "python",
   "pygments_lexer": "ipython3",
   "version": "3.8.10"
  }
 },
 "nbformat": 4,
 "nbformat_minor": 5
}
